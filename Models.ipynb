{
 "cells": [
  {
   "cell_type": "markdown",
   "metadata": {},
   "source": [
    "## Import Modules"
   ]
  },
  {
   "cell_type": "code",
   "execution_count": 1,
   "metadata": {
    "collapsed": false
   },
   "outputs": [
    {
     "name": "stderr",
     "output_type": "stream",
     "text": [
      "//anaconda/lib/python3.5/site-packages/matplotlib/__init__.py:878: UserWarning: axes.color_cycle is deprecated and replaced with axes.prop_cycle; please use the latter.\n",
      "  warnings.warn(self.msg_depr % (key, alt_key))\n",
      "//anaconda/lib/python3.5/site-packages/sklearn/cross_validation.py:44: DeprecationWarning: This module was deprecated in version 0.18 in favor of the model_selection module into which all the refactored classes and functions are moved. Also note that the interface of the new CV iterators are different from that of this module. This module will be removed in 0.20.\n",
      "  \"This module will be removed in 0.20.\", DeprecationWarning)\n",
      "//anaconda/lib/python3.5/site-packages/sklearn/grid_search.py:43: DeprecationWarning: This module was deprecated in version 0.18 in favor of the model_selection module into which all the refactored classes and functions are moved. This module will be removed in 0.20.\n",
      "  DeprecationWarning)\n"
     ]
    }
   ],
   "source": [
    "import pandas as pd\n",
    "import numpy as np\n",
    "from pandas.tools.plotting import scatter_matrix\n",
    "import seaborn as sns\n",
    "import matplotlib.pyplot as plt\n",
    "import statsmodels.api as sm\n",
    "import statsmodels.formula.api as smf\n",
    "from sklearn import linear_model\n",
    "from sklearn.linear_model import LinearRegression\n",
    "from sklearn.linear_model import LogisticRegression\n",
    "from sklearn.cross_validation import train_test_split\n",
    "from sklearn import metrics\n",
    "from sklearn.cross_validation import cross_val_score\n",
    "from sklearn import model_selection\n",
    "from sklearn.linear_model import LogisticRegression\n",
    "from sklearn.tree import DecisionTreeClassifier\n",
    "from sklearn.neighbors import KNeighborsClassifier\n",
    "from sklearn.discriminant_analysis import LinearDiscriminantAnalysis\n",
    "from sklearn.naive_bayes import GaussianNB\n",
    "from xgboost import XGBClassifier\n",
    "from xgboost import plot_importance\n",
    "from xgboost import plot_tree\n",
    "from matplotlib import pyplot\n",
    "from sklearn.preprocessing import LabelEncoder\n",
    "from sklearn.metrics import confusion_matrix, mean_squared_error,precision_score,accuracy_score,classification_report\n",
    "from sklearn.model_selection import KFold, train_test_split\n",
    "from sklearn.grid_search import GridSearchCV\n",
    "import math\n",
    "%matplotlib inline"
   ]
  },
  {
   "cell_type": "markdown",
   "metadata": {},
   "source": [
    "## Read and Clean Data"
   ]
  },
  {
   "cell_type": "markdown",
   "metadata": {},
   "source": [
    "#### Import NBA advanced shot logs from 2013-2014 and 2014-2015 seasons."
   ]
  },
  {
   "cell_type": "code",
   "execution_count": 2,
   "metadata": {
    "collapsed": true
   },
   "outputs": [],
   "source": [
    "shots = pd.read_csv('total_shots.csv')\n",
    "del shots['Unnamed: 0']"
   ]
  },
  {
   "cell_type": "code",
   "execution_count": 3,
   "metadata": {
    "collapsed": false
   },
   "outputs": [],
   "source": [
    "#Analyze shots that have no negative touch time (impossible)\n",
    "shots=shots[shots['touch_time']>=0]\n",
    "#Remove shots that are over 40 feet\n",
    "shots=shots[shots['shot_dist']<40]\n",
    "\n",
    "#Remove any shot clock observations that are N/A\n",
    "nan=float('nan')\n",
    "shots=shots[~np.isnan(shots['shot_clock'])]\n",
    "\n",
    "#Remove any shots that registered as N/A\n",
    "nan=float('nan')\n",
    "shots=shots[~np.isnan(shots['fgm'])]\n",
    "\n",
    "#Remove any shots that have a closest defender distance over 30\n",
    "shots=shots[shots['close_def_dist']<30]"
   ]
  },
  {
   "cell_type": "markdown",
   "metadata": {},
   "source": [
    "#### Creating New Features"
   ]
  },
  {
   "cell_type": "code",
   "execution_count": 4,
   "metadata": {
    "collapsed": true
   },
   "outputs": [],
   "source": [
    "#Create new column that incorporates time and minutes into one column since they do not make sense in separate columns\n",
    "shots['time_remaining'] = (shots['minutes_remaining']) + (shots['seconds_remaining'] * 0.01)"
   ]
  },
  {
   "cell_type": "code",
   "execution_count": 5,
   "metadata": {
    "collapsed": true
   },
   "outputs": [],
   "source": [
    "shots.loc[(shots['fgm'] == 2,'fgm')] = 1"
   ]
  },
  {
   "cell_type": "code",
   "execution_count": 6,
   "metadata": {
    "collapsed": false
   },
   "outputs": [],
   "source": [
    "#Convert 65 types of shots into 6 buckets of shot types. HP Shot = High Percentage Shot, Hard Jump Shot = More difficult jumpshots\n",
    "shots.loc[(shots['action_type'].str.contains('Jump Shot'),'action_type')] = 'jump_shot'\n",
    "shots.loc[(shots['action_type'].str.contains('Dunk'),'action_type')] = 'hp_shot'\n",
    "shots.loc[(shots['action_type'].str.contains('Layup'),'action_type')] = 'hp_shot'\n",
    "shots.loc[(shots['action_type'].str.contains('Hook'),'action_type')] = 'hook'\n",
    "shots.loc[(shots['action_type'].str.contains('Driving'),'action_type')] = 'driving_shot'\n",
    "shots.loc[(shots['action_type'].str.contains('Bank'),'action_type')] = 'bank_shot'\n",
    "shots.loc[(shots['action_type'].str.contains('Tip'),'action_type')] = 'tip_shot'\n",
    "shots.loc[(shots['action_type'].str.contains('Pullup'),'action_type')] = 'hard_jump_shot'\n",
    "shots.loc[(shots['action_type'].str.contains('Running'),'action_type')] = 'hard_jump_shot'\n",
    "shots.loc[(shots['action_type'].str.contains('Turnaround'),'action_type')] = 'hard_jump_shot'\n",
    "shots.loc[(shots['action_type'].str.contains('Step Back'),'action_type')] = 'hard_jump_shot'\n",
    "shots.loc[(shots['action_type'].str.contains('Floating'),'action_type')] = 'hard_jump_shot'\n",
    "shots.loc[(shots['action_type'].str.contains('Fadeaway'),'action_type')] = 'hard_jump_shot'"
   ]
  },
  {
   "cell_type": "code",
   "execution_count": 7,
   "metadata": {
    "collapsed": false
   },
   "outputs": [],
   "source": [
    "#Delete shot type that are 'no shot' action types\n",
    "shots = shots[shots.action_type != 'No Shot']"
   ]
  },
  {
   "cell_type": "code",
   "execution_count": 8,
   "metadata": {
    "collapsed": false
   },
   "outputs": [],
   "source": [
    "#Create dummy variables for shot types\n",
    "shots_ML = pd.get_dummies(shots['action_type'])"
   ]
  },
  {
   "cell_type": "code",
   "execution_count": 9,
   "metadata": {
    "collapsed": true
   },
   "outputs": [],
   "source": [
    "#Create new dataframe with dummy variables inserted\n",
    "newdf= pd.concat([shots,shots_ML], axis=1)"
   ]
  },
  {
   "cell_type": "code",
   "execution_count": 10,
   "metadata": {
    "collapsed": false
   },
   "outputs": [],
   "source": [
    "shots = shots.round(3)"
   ]
  },
  {
   "cell_type": "code",
   "execution_count": 11,
   "metadata": {
    "collapsed": false
   },
   "outputs": [
    {
     "data": {
      "text/plain": [
       "closest_defender               object\n",
       "closest_defender_player_id    float64\n",
       "close_def_dist                float64\n",
       "dribbles                      float64\n",
       "fgm                           float64\n",
       "final_margin                  float64\n",
       "game_clock                     object\n",
       "game_id                         int64\n",
       "game_id.1                       int64\n",
       "location                       object\n",
       "matchup                        object\n",
       "period                        float64\n",
       "period.1                      float64\n",
       "pts                           float64\n",
       "pts_type                      float64\n",
       "shot_clock                    float64\n",
       "shot_dist                     float64\n",
       "shot_number                   float64\n",
       "shot_result                    object\n",
       "touch_time                    float64\n",
       "w                              object\n",
       "grid_type                      object\n",
       "game_event_id                 float64\n",
       "player_id                     float64\n",
       "player_id.1                     int64\n",
       "player_name                    object\n",
       "team_id                       float64\n",
       "minutes_remaining             float64\n",
       "seconds_remaining             float64\n",
       "event_type                     object\n",
       "action_type                    object\n",
       "shot_type                      object\n",
       "shot_zone_basic                object\n",
       "shot_zone_area                 object\n",
       "shot_zone_range                object\n",
       "shot_distance                 float64\n",
       "loc_x                         float64\n",
       "loc_y                         float64\n",
       "shot_attempted_flag           float64\n",
       "shot_made_flag                float64\n",
       "time_remaining                float64\n",
       "dtype: object"
      ]
     },
     "execution_count": 11,
     "metadata": {},
     "output_type": "execute_result"
    }
   ],
   "source": [
    "shots.dtypes"
   ]
  },
  {
   "cell_type": "markdown",
   "metadata": {},
   "source": [
    "## Statistical Models"
   ]
  },
  {
   "cell_type": "markdown",
   "metadata": {},
   "source": [
    "#### Logistic Regression"
   ]
  },
  {
   "cell_type": "code",
   "execution_count": 12,
   "metadata": {
    "collapsed": false
   },
   "outputs": [
    {
     "name": "stdout",
     "output_type": "stream",
     "text": [
      "Optimization terminated successfully.\n",
      "         Current function value: 0.689253\n",
      "         Iterations 3\n"
     ]
    },
    {
     "data": {
      "text/html": [
       "<table class=\"simpletable\">\n",
       "<caption>Logit Regression Results</caption>\n",
       "<tr>\n",
       "  <th>Dep. Variable:</th>  <td>shot_made_flag</td>  <th>  No. Observations:  </th>   <td>379731</td>   \n",
       "</tr>\n",
       "<tr>\n",
       "  <th>Model:</th>               <td>Logit</td>      <th>  Df Residuals:      </th>   <td>379729</td>   \n",
       "</tr>\n",
       "<tr>\n",
       "  <th>Method:</th>               <td>MLE</td>       <th>  Df Model:          </th>   <td>     1</td>   \n",
       "</tr>\n",
       "<tr>\n",
       "  <th>Date:</th>          <td>Wed, 08 Mar 2017</td> <th>  Pseudo R-squ.:     </th>  <td>3.565e-05</td> \n",
       "</tr>\n",
       "<tr>\n",
       "  <th>Time:</th>              <td>20:57:40</td>     <th>  Log-Likelihood:    </th> <td>-2.6173e+05</td>\n",
       "</tr>\n",
       "<tr>\n",
       "  <th>converged:</th>           <td>True</td>       <th>  LL-Null:           </th> <td>-2.6174e+05</td>\n",
       "</tr>\n",
       "<tr>\n",
       "  <th> </th>                      <td> </td>        <th>  LLR p-value:       </th>  <td>1.560e-05</td> \n",
       "</tr>\n",
       "</table>\n",
       "<table class=\"simpletable\">\n",
       "<tr>\n",
       "         <td></td>           <th>coef</th>     <th>std err</th>      <th>z</th>      <th>P>|z|</th> <th>[95.0% Conf. Int.]</th> \n",
       "</tr>\n",
       "<tr>\n",
       "  <th>Intercept</th>      <td>   -0.1544</td> <td>    0.006</td> <td>  -25.643</td> <td> 0.000</td> <td>   -0.166    -0.143</td>\n",
       "</tr>\n",
       "<tr>\n",
       "  <th>close_def_dist</th> <td>   -0.0053</td> <td>    0.001</td> <td>   -4.318</td> <td> 0.000</td> <td>   -0.008    -0.003</td>\n",
       "</tr>\n",
       "</table>"
      ],
      "text/plain": [
       "<class 'statsmodels.iolib.summary.Summary'>\n",
       "\"\"\"\n",
       "                           Logit Regression Results                           \n",
       "==============================================================================\n",
       "Dep. Variable:         shot_made_flag   No. Observations:               379731\n",
       "Model:                          Logit   Df Residuals:                   379729\n",
       "Method:                           MLE   Df Model:                            1\n",
       "Date:                Wed, 08 Mar 2017   Pseudo R-squ.:               3.565e-05\n",
       "Time:                        20:57:40   Log-Likelihood:            -2.6173e+05\n",
       "converged:                       True   LL-Null:                   -2.6174e+05\n",
       "                                        LLR p-value:                 1.560e-05\n",
       "==================================================================================\n",
       "                     coef    std err          z      P>|z|      [95.0% Conf. Int.]\n",
       "----------------------------------------------------------------------------------\n",
       "Intercept         -0.1544      0.006    -25.643      0.000        -0.166    -0.143\n",
       "close_def_dist    -0.0053      0.001     -4.318      0.000        -0.008    -0.003\n",
       "==================================================================================\n",
       "\"\"\""
      ]
     },
     "execution_count": 12,
     "metadata": {},
     "output_type": "execute_result"
    }
   ],
   "source": [
    "smf.logit(formula='shot_made_flag ~ close_def_dist', data=shots).fit().summary()"
   ]
  },
  {
   "cell_type": "markdown",
   "metadata": {},
   "source": [
    "Though the closest defender distance has a p-value that is significant, the model is not a good fit because the variable of closest defender distance doesn't really show a relationship with a shot being made. The pseudo R-squared is terribly low"
   ]
  },
  {
   "cell_type": "code",
   "execution_count": 27,
   "metadata": {
    "collapsed": false
   },
   "outputs": [
    {
     "name": "stdout",
     "output_type": "stream",
     "text": [
      "Optimization terminated successfully.\n",
      "         Current function value: 0.660568\n",
      "         Iterations 5\n"
     ]
    },
    {
     "data": {
      "text/html": [
       "<table class=\"simpletable\">\n",
       "<caption>Logit Regression Results</caption>\n",
       "<tr>\n",
       "  <th>Dep. Variable:</th>  <td>shot_made_flag</td>  <th>  No. Observations:  </th>   <td>379731</td>   \n",
       "</tr>\n",
       "<tr>\n",
       "  <th>Model:</th>               <td>Logit</td>      <th>  Df Residuals:      </th>   <td>379724</td>   \n",
       "</tr>\n",
       "<tr>\n",
       "  <th>Method:</th>               <td>MLE</td>       <th>  Df Model:          </th>   <td>     6</td>   \n",
       "</tr>\n",
       "<tr>\n",
       "  <th>Date:</th>          <td>Wed, 08 Mar 2017</td> <th>  Pseudo R-squ.:     </th>   <td>0.04165</td>  \n",
       "</tr>\n",
       "<tr>\n",
       "  <th>Time:</th>              <td>21:08:06</td>     <th>  Log-Likelihood:    </th> <td>-2.5084e+05</td>\n",
       "</tr>\n",
       "<tr>\n",
       "  <th>converged:</th>           <td>True</td>       <th>  LL-Null:           </th> <td>-2.6174e+05</td>\n",
       "</tr>\n",
       "<tr>\n",
       "  <th> </th>                      <td> </td>        <th>  LLR p-value:       </th>   <td> 0.000</td>   \n",
       "</tr>\n",
       "</table>\n",
       "<table class=\"simpletable\">\n",
       "<tr>\n",
       "         <td></td>           <th>coef</th>     <th>std err</th>      <th>z</th>      <th>P>|z|</th> <th>[95.0% Conf. Int.]</th> \n",
       "</tr>\n",
       "<tr>\n",
       "  <th>Intercept</th>      <td>   -0.0549</td> <td>    0.012</td> <td>   -4.516</td> <td> 0.000</td> <td>   -0.079    -0.031</td>\n",
       "</tr>\n",
       "<tr>\n",
       "  <th>close_def_dist</th> <td>    0.0898</td> <td>    0.002</td> <td>   57.504</td> <td> 0.000</td> <td>    0.087     0.093</td>\n",
       "</tr>\n",
       "<tr>\n",
       "  <th>shot_distance</th>  <td>   -0.0532</td> <td>    0.000</td> <td> -121.359</td> <td> 0.000</td> <td>   -0.054    -0.052</td>\n",
       "</tr>\n",
       "<tr>\n",
       "  <th>shot_clock</th>     <td>    0.0175</td> <td>    0.001</td> <td>   28.984</td> <td> 0.000</td> <td>    0.016     0.019</td>\n",
       "</tr>\n",
       "<tr>\n",
       "  <th>touch_time</th>     <td>   -0.0384</td> <td>    0.001</td> <td>  -31.121</td> <td> 0.000</td> <td>   -0.041    -0.036</td>\n",
       "</tr>\n",
       "<tr>\n",
       "  <th>shot_number</th>    <td>    0.0045</td> <td>    0.001</td> <td>    6.238</td> <td> 0.000</td> <td>    0.003     0.006</td>\n",
       "</tr>\n",
       "<tr>\n",
       "  <th>final_margin</th>   <td>    0.0096</td> <td>    0.000</td> <td>   38.652</td> <td> 0.000</td> <td>    0.009     0.010</td>\n",
       "</tr>\n",
       "</table>"
      ],
      "text/plain": [
       "<class 'statsmodels.iolib.summary.Summary'>\n",
       "\"\"\"\n",
       "                           Logit Regression Results                           \n",
       "==============================================================================\n",
       "Dep. Variable:         shot_made_flag   No. Observations:               379731\n",
       "Model:                          Logit   Df Residuals:                   379724\n",
       "Method:                           MLE   Df Model:                            6\n",
       "Date:                Wed, 08 Mar 2017   Pseudo R-squ.:                 0.04165\n",
       "Time:                        21:08:06   Log-Likelihood:            -2.5084e+05\n",
       "converged:                       True   LL-Null:                   -2.6174e+05\n",
       "                                        LLR p-value:                     0.000\n",
       "==================================================================================\n",
       "                     coef    std err          z      P>|z|      [95.0% Conf. Int.]\n",
       "----------------------------------------------------------------------------------\n",
       "Intercept         -0.0549      0.012     -4.516      0.000        -0.079    -0.031\n",
       "close_def_dist     0.0898      0.002     57.504      0.000         0.087     0.093\n",
       "shot_distance     -0.0532      0.000   -121.359      0.000        -0.054    -0.052\n",
       "shot_clock         0.0175      0.001     28.984      0.000         0.016     0.019\n",
       "touch_time        -0.0384      0.001    -31.121      0.000        -0.041    -0.036\n",
       "shot_number        0.0045      0.001      6.238      0.000         0.003     0.006\n",
       "final_margin       0.0096      0.000     38.652      0.000         0.009     0.010\n",
       "==================================================================================\n",
       "\"\"\""
      ]
     },
     "execution_count": 27,
     "metadata": {},
     "output_type": "execute_result"
    }
   ],
   "source": [
    "smf.logit(formula='shot_made_flag ~ close_def_dist+shot_distance+shot_clock+ touch_time+shot_number+final_margin', data=shots).fit().summary()"
   ]
  },
  {
   "cell_type": "markdown",
   "metadata": {},
   "source": [
    "This logistic regression with more features is a bit better, but doesn't have a strong pseudo r-squared."
   ]
  },
  {
   "cell_type": "code",
   "execution_count": 28,
   "metadata": {
    "collapsed": false
   },
   "outputs": [
    {
     "data": {
      "image/png": "[encoded data removed]",
      "text/plain": [
       "<matplotlib.figure.Figure at 0x110c89710>"
      ]
     },
     "metadata": {},
     "output_type": "display_data"
    }
   ],
   "source": [
    "shots.fgm.value_counts().plot(kind='bar', title='fgm');"
   ]
  },
  {
   "cell_type": "markdown",
   "metadata": {},
   "source": [
    "#### GLM "
   ]
  },
  {
   "cell_type": "code",
   "execution_count": 29,
   "metadata": {
    "collapsed": false
   },
   "outputs": [
    {
     "data": {
      "text/html": [
       "<table class=\"simpletable\">\n",
       "<caption>Generalized Linear Model Regression Results</caption>\n",
       "<tr>\n",
       "  <th>Dep. Variable:</th>   <td>shot_made_flag</td>  <th>  No. Observations:  </th>   <td>379731</td>   \n",
       "</tr>\n",
       "<tr>\n",
       "  <th>Model:</th>                 <td>GLM</td>       <th>  Df Residuals:      </th>   <td>379724</td>   \n",
       "</tr>\n",
       "<tr>\n",
       "  <th>Model Family:</th>       <td>Binomial</td>     <th>  Df Model:          </th>   <td>     6</td>   \n",
       "</tr>\n",
       "<tr>\n",
       "  <th>Link Function:</th>        <td>logit</td>      <th>  Scale:             </th>     <td>1.0</td>    \n",
       "</tr>\n",
       "<tr>\n",
       "  <th>Method:</th>               <td>IRLS</td>       <th>  Log-Likelihood:    </th> <td>-2.5084e+05</td>\n",
       "</tr>\n",
       "<tr>\n",
       "  <th>Date:</th>           <td>Wed, 08 Mar 2017</td> <th>  Deviance:          </th> <td>5.0168e+05</td> \n",
       "</tr>\n",
       "<tr>\n",
       "  <th>Time:</th>               <td>21:08:09</td>     <th>  Pearson chi2:      </th>  <td>3.80e+05</td>  \n",
       "</tr>\n",
       "<tr>\n",
       "  <th>No. Iterations:</th>         <td>7</td>        <th>                     </th>      <td> </td>     \n",
       "</tr>\n",
       "</table>\n",
       "<table class=\"simpletable\">\n",
       "<tr>\n",
       "         <td></td>           <th>coef</th>     <th>std err</th>      <th>z</th>      <th>P>|z|</th> <th>[95.0% Conf. Int.]</th> \n",
       "</tr>\n",
       "<tr>\n",
       "  <th>Intercept</th>      <td>   -0.0549</td> <td>    0.012</td> <td>   -4.516</td> <td> 0.000</td> <td>   -0.079    -0.031</td>\n",
       "</tr>\n",
       "<tr>\n",
       "  <th>close_def_dist</th> <td>    0.0898</td> <td>    0.002</td> <td>   57.504</td> <td> 0.000</td> <td>    0.087     0.093</td>\n",
       "</tr>\n",
       "<tr>\n",
       "  <th>shot_distance</th>  <td>   -0.0532</td> <td>    0.000</td> <td> -121.359</td> <td> 0.000</td> <td>   -0.054    -0.052</td>\n",
       "</tr>\n",
       "<tr>\n",
       "  <th>shot_clock</th>     <td>    0.0175</td> <td>    0.001</td> <td>   28.984</td> <td> 0.000</td> <td>    0.016     0.019</td>\n",
       "</tr>\n",
       "<tr>\n",
       "  <th>touch_time</th>     <td>   -0.0384</td> <td>    0.001</td> <td>  -31.121</td> <td> 0.000</td> <td>   -0.041    -0.036</td>\n",
       "</tr>\n",
       "<tr>\n",
       "  <th>shot_number</th>    <td>    0.0045</td> <td>    0.001</td> <td>    6.238</td> <td> 0.000</td> <td>    0.003     0.006</td>\n",
       "</tr>\n",
       "<tr>\n",
       "  <th>final_margin</th>   <td>    0.0096</td> <td>    0.000</td> <td>   38.652</td> <td> 0.000</td> <td>    0.009     0.010</td>\n",
       "</tr>\n",
       "</table>"
      ],
      "text/plain": [
       "<class 'statsmodels.iolib.summary.Summary'>\n",
       "\"\"\"\n",
       "                 Generalized Linear Model Regression Results                  \n",
       "==============================================================================\n",
       "Dep. Variable:         shot_made_flag   No. Observations:               379731\n",
       "Model:                            GLM   Df Residuals:                   379724\n",
       "Model Family:                Binomial   Df Model:                            6\n",
       "Link Function:                  logit   Scale:                             1.0\n",
       "Method:                          IRLS   Log-Likelihood:            -2.5084e+05\n",
       "Date:                Wed, 08 Mar 2017   Deviance:                   5.0168e+05\n",
       "Time:                        21:08:09   Pearson chi2:                 3.80e+05\n",
       "No. Iterations:                     7                                         \n",
       "==================================================================================\n",
       "                     coef    std err          z      P>|z|      [95.0% Conf. Int.]\n",
       "----------------------------------------------------------------------------------\n",
       "Intercept         -0.0549      0.012     -4.516      0.000        -0.079    -0.031\n",
       "close_def_dist     0.0898      0.002     57.504      0.000         0.087     0.093\n",
       "shot_distance     -0.0532      0.000   -121.359      0.000        -0.054    -0.052\n",
       "shot_clock         0.0175      0.001     28.984      0.000         0.016     0.019\n",
       "touch_time        -0.0384      0.001    -31.121      0.000        -0.041    -0.036\n",
       "shot_number        0.0045      0.001      6.238      0.000         0.003     0.006\n",
       "final_margin       0.0096      0.000     38.652      0.000         0.009     0.010\n",
       "==================================================================================\n",
       "\"\"\""
      ]
     },
     "execution_count": 29,
     "metadata": {},
     "output_type": "execute_result"
    }
   ],
   "source": [
    "results = smf.glm('shot_made_flag ~ close_def_dist+shot_distance+shot_clock+ touch_time+shot_number+final_margin', \n",
    "              data=shots, \n",
    "              family=sm.families.Binomial()).fit()\n",
    "results.summary()"
   ]
  },
  {
   "cell_type": "markdown",
   "metadata": {},
   "source": [
    "The GLM model is exactly the same as the previous logistic regression model because are both using the logit function."
   ]
  },
  {
   "cell_type": "code",
   "execution_count": 32,
   "metadata": {
    "collapsed": false
   },
   "outputs": [],
   "source": [
    "explanatory_vars = list(newdf.columns)\n",
    "explanatory_vars = [e for e in explanatory_vars]"
   ]
  },
  {
   "cell_type": "code",
   "execution_count": 33,
   "metadata": {
    "collapsed": false
   },
   "outputs": [],
   "source": [
    "X = newdf[[\n",
    " 'close_def_dist',\n",
    " 'shot_clock',\n",
    " 'shot_number',\n",
    " 'touch_time',\n",
    " 'shot_distance']]\n",
    "Y = newdf['shot_made_flag']"
   ]
  },
  {
   "cell_type": "code",
   "execution_count": 34,
   "metadata": {
    "collapsed": false
   },
   "outputs": [
    {
     "data": {
      "text/plain": [
       "0.60682430457350067"
      ]
     },
     "execution_count": 34,
     "metadata": {},
     "output_type": "execute_result"
    }
   ],
   "source": [
    "lm = LogisticRegression()\n",
    "lm = lm.fit(X,Y)\n",
    "lm.score(X,Y)"
   ]
  },
  {
   "cell_type": "code",
   "execution_count": 35,
   "metadata": {
    "collapsed": false
   },
   "outputs": [
    {
     "data": {
      "text/plain": [
       "0.4560438836966168"
      ]
     },
     "execution_count": 35,
     "metadata": {},
     "output_type": "execute_result"
    }
   ],
   "source": [
    "Y.mean()"
   ]
  },
  {
   "cell_type": "markdown",
   "metadata": {},
   "source": [
    "60.7% accuracy is alright, but null error rate is 54.4%, which means we could get 54.4% accuracy by always predicting that a shot is not made."
   ]
  },
  {
   "cell_type": "markdown",
   "metadata": {},
   "source": [
    "#### Logistic Regression with New Features"
   ]
  },
  {
   "cell_type": "code",
   "execution_count": 62,
   "metadata": {
    "collapsed": false
   },
   "outputs": [],
   "source": [
    "X = newdf[['touch_time',\n",
    "  'final_margin', \n",
    "  'shot_number',\n",
    "  'shot_clock',\n",
    "   'shot_distance',\n",
    "'time_remaining',\n",
    " 'close_def_dist',\n",
    " 'bank_shot',\n",
    " 'driving_shot',\n",
    " 'hard_jump_shot',\n",
    " 'hook',\n",
    " 'hp_shot',\n",
    " 'jump_shot',\n",
    " 'tip_shot']]\n",
    "Y = newdf['shot_made_flag']"
   ]
  },
  {
   "cell_type": "code",
   "execution_count": 63,
   "metadata": {
    "collapsed": false
   },
   "outputs": [
    {
     "data": {
      "text/plain": [
       "0.63428584971993329"
      ]
     },
     "execution_count": 63,
     "metadata": {},
     "output_type": "execute_result"
    }
   ],
   "source": [
    "lm2 = LogisticRegression()\n",
    "lm2 = lm2.fit(X,Y)\n",
    "lm2.score(X,Y)"
   ]
  },
  {
   "cell_type": "markdown",
   "metadata": {},
   "source": [
    "I created dummy variables to convert the categorical feature of shot type into numeric data. The accuracy score of this logistic regression is 63.5% which is better than our previous model of 60.5%. Considering that the null error rate is 54.4%, this is a pretty decent model."
   ]
  },
  {
   "cell_type": "code",
   "execution_count": 106,
   "metadata": {
    "collapsed": false
   },
   "outputs": [
    {
     "data": {
      "text/plain": [
       "array([-0.14199111])"
      ]
     },
     "execution_count": 106,
     "metadata": {},
     "output_type": "execute_result"
    }
   ],
   "source": [
    "lm2.intercept_"
   ]
  },
  {
   "cell_type": "code",
   "execution_count": 109,
   "metadata": {
    "collapsed": false
   },
   "outputs": [
    {
     "data": {
      "text/html": [
       "<div>\n",
       "<table border=\"1\" class=\"dataframe\">\n",
       "  <thead>\n",
       "    <tr style=\"text-align: right;\">\n",
       "      <th></th>\n",
       "      <th>X</th>\n",
       "      <th>Coef</th>\n",
       "    </tr>\n",
       "  </thead>\n",
       "  <tbody>\n",
       "    <tr>\n",
       "      <th>0</th>\n",
       "      <td>touch_time</td>\n",
       "      <td>-0.046049</td>\n",
       "    </tr>\n",
       "    <tr>\n",
       "      <th>1</th>\n",
       "      <td>final_margin</td>\n",
       "      <td>0.009141</td>\n",
       "    </tr>\n",
       "    <tr>\n",
       "      <th>2</th>\n",
       "      <td>shot_number</td>\n",
       "      <td>0.004238</td>\n",
       "    </tr>\n",
       "    <tr>\n",
       "      <th>3</th>\n",
       "      <td>shot_clock</td>\n",
       "      <td>0.013431</td>\n",
       "    </tr>\n",
       "    <tr>\n",
       "      <th>4</th>\n",
       "      <td>shot_distance</td>\n",
       "      <td>-0.011637</td>\n",
       "    </tr>\n",
       "    <tr>\n",
       "      <th>5</th>\n",
       "      <td>time_remaining</td>\n",
       "      <td>0.000692</td>\n",
       "    </tr>\n",
       "    <tr>\n",
       "      <th>6</th>\n",
       "      <td>close_def_dist</td>\n",
       "      <td>0.086684</td>\n",
       "    </tr>\n",
       "    <tr>\n",
       "      <th>7</th>\n",
       "      <td>bank_shot</td>\n",
       "      <td>0.646833</td>\n",
       "    </tr>\n",
       "    <tr>\n",
       "      <th>8</th>\n",
       "      <td>driving_shot</td>\n",
       "      <td>-0.119704</td>\n",
       "    </tr>\n",
       "    <tr>\n",
       "      <th>9</th>\n",
       "      <td>hard_jump_shot</td>\n",
       "      <td>0.185055</td>\n",
       "    </tr>\n",
       "    <tr>\n",
       "      <th>10</th>\n",
       "      <td>hook</td>\n",
       "      <td>0.004909</td>\n",
       "    </tr>\n",
       "    <tr>\n",
       "      <th>11</th>\n",
       "      <td>hp_shot</td>\n",
       "      <td>0.391025</td>\n",
       "    </tr>\n",
       "    <tr>\n",
       "      <th>12</th>\n",
       "      <td>jump_shot</td>\n",
       "      <td>-0.800794</td>\n",
       "    </tr>\n",
       "    <tr>\n",
       "      <th>13</th>\n",
       "      <td>tip_shot</td>\n",
       "      <td>-0.449315</td>\n",
       "    </tr>\n",
       "  </tbody>\n",
       "</table>\n",
       "</div>"
      ],
      "text/plain": [
       "                 X      Coef\n",
       "0       touch_time -0.046049\n",
       "1     final_margin  0.009141\n",
       "2      shot_number  0.004238\n",
       "3       shot_clock  0.013431\n",
       "4    shot_distance -0.011637\n",
       "5   time_remaining  0.000692\n",
       "6   close_def_dist  0.086684\n",
       "7        bank_shot  0.646833\n",
       "8     driving_shot -0.119704\n",
       "9   hard_jump_shot  0.185055\n",
       "10            hook  0.004909\n",
       "11         hp_shot  0.391025\n",
       "12       jump_shot -0.800794\n",
       "13        tip_shot -0.449315"
      ]
     },
     "execution_count": 109,
     "metadata": {},
     "output_type": "execute_result"
    }
   ],
   "source": [
    "cols= X.columns.tolist()\n",
    "coef= lm2.coef_[0].tolist()\n",
    "A = pd.DataFrame({\"X\":cols})\n",
    "A[\"Coef\"] = coef\n",
    "A"
   ]
  },
  {
   "cell_type": "markdown",
   "metadata": {},
   "source": [
    "Positive coefficients increase the log-odds of the response, and negative coefficients decrease the log-odds of the response."
   ]
  },
  {
   "cell_type": "code",
   "execution_count": 110,
   "metadata": {
    "collapsed": false
   },
   "outputs": [
    {
     "data": {
      "text/plain": [
       "array([-0.18804045, -0.13285057, -0.13775325, -0.12856019, -0.15362829,\n",
       "       -0.14129929, -0.05530742,  0.50484198, -0.26169489,  0.043064  ,\n",
       "       -0.13708184,  0.2490336 , -0.94278535, -0.59130641])"
      ]
     },
     "execution_count": 110,
     "metadata": {},
     "output_type": "execute_result"
    }
   ],
   "source": [
    "logodds = lm2.intercept_ + lm2.coef_[0]\n",
    "logodds"
   ]
  },
  {
   "cell_type": "code",
   "execution_count": 111,
   "metadata": {
    "collapsed": false
   },
   "outputs": [
    {
     "data": {
      "text/plain": [
       "array([ 0.82858119,  0.87559592,  0.87131366,  0.87936064,  0.85759073,\n",
       "        0.86822942,  0.94619422,  1.65672371,  0.76974584,  1.04400471,\n",
       "        0.87189887,  1.28278513,  0.38954131,  0.55360358])"
      ]
     },
     "execution_count": 111,
     "metadata": {},
     "output_type": "execute_result"
    }
   ],
   "source": [
    "odds = np.exp(logodds)\n",
    "odds"
   ]
  },
  {
   "cell_type": "code",
   "execution_count": 112,
   "metadata": {
    "collapsed": false
   },
   "outputs": [
    {
     "data": {
      "text/plain": [
       "array([ 0.45312792,  0.46683612,  0.46561604,  0.46790415,  0.46166829,\n",
       "        0.46473383,  0.48617667,  0.62359654,  0.43494711,  0.51076434,\n",
       "        0.46578311,  0.56193862,  0.28033806,  0.35633516])"
      ]
     },
     "execution_count": 112,
     "metadata": {},
     "output_type": "execute_result"
    }
   ],
   "source": [
    "prob = odds/(1 + odds)\n",
    "prob"
   ]
  },
  {
   "cell_type": "markdown",
   "metadata": {},
   "source": [
    "#### Split Data into Training and Testing sets for Classification"
   ]
  },
  {
   "cell_type": "code",
   "execution_count": 38,
   "metadata": {
    "collapsed": false
   },
   "outputs": [
    {
     "data": {
      "text/plain": [
       "LogisticRegression(C=1.0, class_weight=None, dual=False, fit_intercept=True,\n",
       "          intercept_scaling=1, max_iter=100, multi_class='ovr', n_jobs=1,\n",
       "          penalty='l2', random_state=None, solver='liblinear', tol=0.0001,\n",
       "          verbose=0, warm_start=False)"
      ]
     },
     "execution_count": 38,
     "metadata": {},
     "output_type": "execute_result"
    }
   ],
   "source": [
    "# evaluate the model by splitting into train and test sets\n",
    "X_train, X_test, y_train, y_test = train_test_split(X, Y, test_size=0.3, random_state=64)\n",
    "model2 = LogisticRegression()\n",
    "model2.fit(X_train, y_train)"
   ]
  },
  {
   "cell_type": "code",
   "execution_count": 39,
   "metadata": {
    "collapsed": false
   },
   "outputs": [
    {
     "data": {
      "text/plain": [
       "array([ 0.,  1.,  1., ...,  0.,  0.,  1.])"
      ]
     },
     "execution_count": 39,
     "metadata": {},
     "output_type": "execute_result"
    }
   ],
   "source": [
    "# predict class labels for the test set\n",
    "predicted = model2.predict(X_test)\n",
    "predicted"
   ]
  },
  {
   "cell_type": "code",
   "execution_count": 40,
   "metadata": {
    "collapsed": false
   },
   "outputs": [
    {
     "data": {
      "text/plain": [
       "array([[ 0.68524993,  0.31475007],\n",
       "       [ 0.45215861,  0.54784139],\n",
       "       [ 0.37820953,  0.62179047],\n",
       "       ..., \n",
       "       [ 0.61325663,  0.38674337],\n",
       "       [ 0.6621166 ,  0.3378834 ],\n",
       "       [ 0.24770234,  0.75229766]])"
      ]
     },
     "execution_count": 40,
     "metadata": {},
     "output_type": "execute_result"
    }
   ],
   "source": [
    "# generate class probabilities\n",
    "probs = model2.predict_proba(X_test)\n",
    "probs"
   ]
  },
  {
   "cell_type": "code",
   "execution_count": 41,
   "metadata": {
    "collapsed": false
   },
   "outputs": [
    {
     "name": "stdout",
     "output_type": "stream",
     "text": [
      "0.635384480337\n",
      "0.670352977755\n"
     ]
    }
   ],
   "source": [
    "print(metrics.accuracy_score(y_test, predicted))\n",
    "print(metrics.roc_auc_score(y_test, probs[:, 1]))"
   ]
  },
  {
   "cell_type": "code",
   "execution_count": 85,
   "metadata": {
    "collapsed": false
   },
   "outputs": [
    {
     "name": "stdout",
     "output_type": "stream",
     "text": [
      "[[45088 16787]\n",
      " [24750 27295]]\n",
      "             precision    recall  f1-score   support\n",
      "\n",
      "        0.0       0.65      0.73      0.68     61875\n",
      "        1.0       0.62      0.52      0.57     52045\n",
      "\n",
      "avg / total       0.63      0.64      0.63    113920\n",
      "\n"
     ]
    }
   ],
   "source": [
    "print(metrics.confusion_matrix(y_test, predicted))\n",
    "print(metrics.classification_report(y_test, predicted))"
   ]
  },
  {
   "cell_type": "code",
   "execution_count": 87,
   "metadata": {
    "collapsed": false
   },
   "outputs": [
    {
     "name": "stdout",
     "output_type": "stream",
     "text": [
      "[ 0.63367041  0.6257966   0.64133354  0.63195871  0.63421378  0.63329208\n",
      "  0.63208069  0.63841778  0.63949752  0.63101759]\n",
      "0.63412787026\n"
     ]
    }
   ],
   "source": [
    "scores = cross_val_score(LogisticRegression(), X, Y, scoring='accuracy', cv=10)\n",
    "print(scores)\n",
    "print(scores.mean())"
   ]
  },
  {
   "cell_type": "code",
   "execution_count": 39,
   "metadata": {
    "collapsed": false
   },
   "outputs": [
    {
     "name": "stdout",
     "output_type": "stream",
     "text": [
      "LogR: 0.629902 (0.003694)\n",
      "KNN: 0.594343 (0.003569)\n",
      "CART: 0.563039 (0.002823)\n"
     ]
    }
   ],
   "source": [
    "models = []\n",
    "models.append(('LogR', LogisticRegression()))\n",
    "models.append(('KNN', KNeighborsClassifier()))\n",
    "models.append(('CART', DecisionTreeClassifier()))\n",
    "# evaluate each model in turn\n",
    "results = []\n",
    "names = []\n",
    "for name, model in models:\n",
    "    kfold = model_selection.KFold(n_splits=15, random_state=64)\n",
    "    cv_results = model_selection.cross_val_score(model, X_train, y_train, cv=kfold, scoring='accuracy')\n",
    "    results.append(cv_results)\n",
    "    names.append(name)\n",
    "    msg = \"%s: %f (%f)\" % (name, cv_results.mean(), cv_results.std())\n",
    "    print(msg)"
   ]
  },
  {
   "cell_type": "markdown",
   "metadata": {},
   "source": [
    "#### Testing out a basic XGBoost Model"
   ]
  },
  {
   "cell_type": "code",
   "execution_count": 88,
   "metadata": {
    "collapsed": false
   },
   "outputs": [
    {
     "name": "stderr",
     "output_type": "stream",
     "text": [
      "//anaconda/lib/python3.5/site-packages/matplotlib/__init__.py:878: UserWarning: axes.color_cycle is deprecated and replaced with axes.prop_cycle; please use the latter.\n",
      "  warnings.warn(self.msg_depr % (key, alt_key))\n"
     ]
    },
    {
     "data": {
      "image/png": "[encoded data removed]",
      "text/plain": [
       "<matplotlib.figure.Figure at 0x1144cfac8>"
      ]
     },
     "metadata": {},
     "output_type": "display_data"
    }
   ],
   "source": [
    "model = XGBClassifier()\n",
    "model.fit(X,Y)\n",
    "sns.set(style=\"whitegrid\", color_codes=True, font_scale = 1)\n",
    "# plot feature importance\n",
    "plot_importance(model)\n",
    "pyplot.show()"
   ]
  },
  {
   "cell_type": "code",
   "execution_count": 89,
   "metadata": {
    "collapsed": false
   },
   "outputs": [
    {
     "name": "stdout",
     "output_type": "stream",
     "text": [
      "[[49184 12691]\n",
      " [27557 24488]]\n",
      "0.658651389225\n"
     ]
    }
   ],
   "source": [
    "X_train, X_test, y_train, y_test = train_test_split(X, Y, test_size = 0.3,random_state = 64)\n",
    "\n",
    "xgb_model = XGBClassifier().fit(X_train,y_train)\n",
    "predictions = xgb_model.predict(X_test)\n",
    "actuals = y_test\n",
    "print(confusion_matrix(actuals, predictions))\n",
    "print(precision_score(actuals, predictions) )"
   ]
  }
 ],
 "metadata": {
  "anaconda-cloud": {},
  "kernelspec": {
   "display_name": "Python [conda root]",
   "language": "python",
   "name": "conda-root-py"
  },
  "language_info": {
   "codemirror_mode": {
    "name": "ipython",
    "version": 3
   },
   "file_extension": ".py",
   "mimetype": "text/x-python",
   "name": "python",
   "nbconvert_exporter": "python",
   "pygments_lexer": "ipython3",
   "version": "3.5.2"
  }
 },
 "nbformat": 4,
 "nbformat_minor": 1
}
