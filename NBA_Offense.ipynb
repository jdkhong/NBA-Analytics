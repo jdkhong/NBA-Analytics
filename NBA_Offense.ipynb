{
 "cells": [
  {
   "cell_type": "markdown",
   "metadata": {},
   "source": [
    "## Import Modules"
   ]
  },
  {
   "cell_type": "code",
   "execution_count": 92,
   "metadata": {
    "collapsed": false
   },
   "outputs": [],
   "source": [
    "import pandas as pd\n",
    "from scipy import stats\n",
    "import seaborn as sns\n",
    "import matplotlib.pyplot as plt\n",
    "import statsmodels.formula.api as smf\n",
    "import numpy as np\n",
    "import math\n",
    "%matplotlib inline"
   ]
  },
  {
   "cell_type": "markdown",
   "metadata": {},
   "source": [
    "## Read and Clean Data"
   ]
  },
  {
   "cell_type": "code",
   "execution_count": 48,
   "metadata": {
    "collapsed": false
   },
   "outputs": [],
   "source": [
    "shots = pd.read_csv('total_shots.csv')"
   ]
  },
  {
   "cell_type": "code",
   "execution_count": 49,
   "metadata": {
    "collapsed": false
   },
   "outputs": [],
   "source": [
    "#Analyze shots that have no negative touch time (impossible)\n",
    "shots=shots[shots['touch_time']>=0]\n",
    "#Remove shots that are over 40 feet\n",
    "shots=shots[shots['shot_dist']<40]\n",
    "\n",
    "#Remove any shot clock observations that are N/A\n",
    "nan=float('nan')\n",
    "shots=shots[~np.isnan(shots['shot_clock'])]\n",
    "\n",
    "#Remove any shots that registered as N/A\n",
    "nan=float('nan')\n",
    "shots=shots[~np.isnan(shots['fgm'])]\n",
    "\n",
    "#Remove any shots that have a closest defender distance over 30\n",
    "shots=shots[shots['close_def_dist']<30]\n",
    "\n",
    "#Make fgm values equal 1 if they are initially equal to 2\n",
    "shots.loc[(shots['fgm'] == 2,'fgm')] = 1\n",
    "\n",
    "#Create a new feature column called time remaining that combines minutes remaining and seconds remaining\n",
    "shots['time_remaining'] = (shots['minutes_remaining']) + (shots['seconds_remaining'] * 0.01)"
   ]
  },
  {
   "cell_type": "code",
   "execution_count": 50,
   "metadata": {
    "collapsed": true
   },
   "outputs": [],
   "source": [
    "#Read file of teams and their respective team ID\n",
    "teams = pd.read_csv('team_id.csv')"
   ]
  },
  {
   "cell_type": "code",
   "execution_count": 51,
   "metadata": {
    "collapsed": false
   },
   "outputs": [
    {
     "data": {
      "text/plain": [
       "nan"
      ]
     },
     "execution_count": 51,
     "metadata": {},
     "output_type": "execute_result"
    }
   ],
   "source": [
    "#Create a dictionary of the team ID csv file\n",
    "team_dict = dict(zip(teams['TEAM_ID'].values, teams['TEAM_NAME'].values))\n",
    "team_dict.pop(0,'nan')"
   ]
  },
  {
   "cell_type": "code",
   "execution_count": 52,
   "metadata": {
    "collapsed": false
   },
   "outputs": [
    {
     "data": {
      "text/plain": [
       "{1610612737: 'Hawks',\n",
       " 1610612738: 'Celtics',\n",
       " 1610612739: 'Cavaliers',\n",
       " 1610612740: 'Pelicans',\n",
       " 1610612741: 'Bulls',\n",
       " 1610612742: 'Mavericks',\n",
       " 1610612743: 'Nuggets',\n",
       " 1610612744: 'Warriors',\n",
       " 1610612745: 'Rockets',\n",
       " 1610612746: 'Clippers',\n",
       " 1610612747: 'Lakers',\n",
       " 1610612748: 'Heat',\n",
       " 1610612749: 'Bucks',\n",
       " 1610612750: 'Timberwolves',\n",
       " 1610612751: 'Nets',\n",
       " 1610612752: 'Knicks',\n",
       " 1610612753: 'Magic',\n",
       " 1610612754: 'Pacers',\n",
       " 1610612755: '76ers',\n",
       " 1610612756: 'Suns',\n",
       " 1610612757: 'Trail Blazers',\n",
       " 1610612758: 'Kings',\n",
       " 1610612759: 'Spurs',\n",
       " 1610612760: 'Thunder',\n",
       " 1610612761: 'Raptors',\n",
       " 1610612762: 'Jazz',\n",
       " 1610612763: 'Grizzlies',\n",
       " 1610612764: 'Wizards',\n",
       " 1610612765: 'Pistons',\n",
       " 1610612766: 'Hornets'}"
      ]
     },
     "execution_count": 52,
     "metadata": {},
     "output_type": "execute_result"
    }
   ],
   "source": [
    "team_dict"
   ]
  },
  {
   "cell_type": "markdown",
   "metadata": {},
   "source": [
    "## EDA: Insights into NBA offensive statistics"
   ]
  },
  {
   "cell_type": "code",
   "execution_count": 53,
   "metadata": {
    "collapsed": false
   },
   "outputs": [
    {
     "data": {
      "text/html": [
       "<div>\n",
       "<table border=\"1\" class=\"dataframe\">\n",
       "  <thead>\n",
       "    <tr style=\"text-align: right;\">\n",
       "      <th></th>\n",
       "      <th>Unnamed: 0</th>\n",
       "      <th>closest_defender</th>\n",
       "      <th>closest_defender_player_id</th>\n",
       "      <th>close_def_dist</th>\n",
       "      <th>dribbles</th>\n",
       "      <th>fgm</th>\n",
       "      <th>final_margin</th>\n",
       "      <th>game_clock</th>\n",
       "      <th>game_id</th>\n",
       "      <th>game_id.1</th>\n",
       "      <th>location</th>\n",
       "      <th>matchup</th>\n",
       "      <th>period</th>\n",
       "      <th>period.1</th>\n",
       "      <th>pts</th>\n",
       "      <th>pts_type</th>\n",
       "      <th>shot_clock</th>\n",
       "      <th>shot_dist</th>\n",
       "      <th>shot_number</th>\n",
       "      <th>shot_result</th>\n",
       "      <th>touch_time</th>\n",
       "      <th>w</th>\n",
       "      <th>grid_type</th>\n",
       "      <th>game_event_id</th>\n",
       "      <th>player_id</th>\n",
       "      <th>player_id.1</th>\n",
       "      <th>player_name</th>\n",
       "      <th>team_id</th>\n",
       "      <th>minutes_remaining</th>\n",
       "      <th>seconds_remaining</th>\n",
       "      <th>event_type</th>\n",
       "      <th>action_type</th>\n",
       "      <th>shot_type</th>\n",
       "      <th>shot_zone_basic</th>\n",
       "      <th>shot_zone_area</th>\n",
       "      <th>shot_zone_range</th>\n",
       "      <th>shot_distance</th>\n",
       "      <th>loc_x</th>\n",
       "      <th>loc_y</th>\n",
       "      <th>shot_attempted_flag</th>\n",
       "      <th>shot_made_flag</th>\n",
       "      <th>time_remaining</th>\n",
       "    </tr>\n",
       "  </thead>\n",
       "  <tbody>\n",
       "    <tr>\n",
       "      <th>0</th>\n",
       "      <td>0</td>\n",
       "      <td>Hudson, Lester</td>\n",
       "      <td>201991.0</td>\n",
       "      <td>2.2</td>\n",
       "      <td>20.0</td>\n",
       "      <td>0.0</td>\n",
       "      <td>-28.0</td>\n",
       "      <td>0:09</td>\n",
       "      <td>21401153</td>\n",
       "      <td>21401153</td>\n",
       "      <td>H</td>\n",
       "      <td>APR 05, 2015 - LAL vs. LAC</td>\n",
       "      <td>1.0</td>\n",
       "      <td>1.0</td>\n",
       "      <td>0.0</td>\n",
       "      <td>2.0</td>\n",
       "      <td>7.5</td>\n",
       "      <td>18.1</td>\n",
       "      <td>1.0</td>\n",
       "      <td>missed</td>\n",
       "      <td>15.8</td>\n",
       "      <td>L</td>\n",
       "      <td>Shot Chart Detail</td>\n",
       "      <td>105.0</td>\n",
       "      <td>202779.0</td>\n",
       "      <td>202779</td>\n",
       "      <td>Dwight Buycks</td>\n",
       "      <td>1.610613e+09</td>\n",
       "      <td>0.0</td>\n",
       "      <td>7.0</td>\n",
       "      <td>Missed Shot</td>\n",
       "      <td>Jump Shot</td>\n",
       "      <td>2PT Field Goal</td>\n",
       "      <td>Mid-Range</td>\n",
       "      <td>Right Side Center(RC)</td>\n",
       "      <td>16-24 ft.</td>\n",
       "      <td>16.0</td>\n",
       "      <td>87.0</td>\n",
       "      <td>144.0</td>\n",
       "      <td>1.0</td>\n",
       "      <td>0.0</td>\n",
       "      <td>0.07</td>\n",
       "    </tr>\n",
       "    <tr>\n",
       "      <th>1</th>\n",
       "      <td>1</td>\n",
       "      <td>Rivers, Austin</td>\n",
       "      <td>203085.0</td>\n",
       "      <td>4.1</td>\n",
       "      <td>6.0</td>\n",
       "      <td>0.0</td>\n",
       "      <td>-28.0</td>\n",
       "      <td>7:39</td>\n",
       "      <td>21401153</td>\n",
       "      <td>21401153</td>\n",
       "      <td>H</td>\n",
       "      <td>APR 05, 2015 - LAL vs. LAC</td>\n",
       "      <td>2.0</td>\n",
       "      <td>2.0</td>\n",
       "      <td>0.0</td>\n",
       "      <td>2.0</td>\n",
       "      <td>14.6</td>\n",
       "      <td>20.8</td>\n",
       "      <td>2.0</td>\n",
       "      <td>missed</td>\n",
       "      <td>8.8</td>\n",
       "      <td>L</td>\n",
       "      <td>Shot Chart Detail</td>\n",
       "      <td>156.0</td>\n",
       "      <td>202779.0</td>\n",
       "      <td>202779</td>\n",
       "      <td>Dwight Buycks</td>\n",
       "      <td>1.610613e+09</td>\n",
       "      <td>7.0</td>\n",
       "      <td>37.0</td>\n",
       "      <td>Missed Shot</td>\n",
       "      <td>Jump Shot</td>\n",
       "      <td>2PT Field Goal</td>\n",
       "      <td>Mid-Range</td>\n",
       "      <td>Right Side Center(RC)</td>\n",
       "      <td>16-24 ft.</td>\n",
       "      <td>18.0</td>\n",
       "      <td>103.0</td>\n",
       "      <td>151.0</td>\n",
       "      <td>1.0</td>\n",
       "      <td>0.0</td>\n",
       "      <td>7.37</td>\n",
       "    </tr>\n",
       "    <tr>\n",
       "      <th>2</th>\n",
       "      <td>2</td>\n",
       "      <td>Rivers, Austin</td>\n",
       "      <td>203085.0</td>\n",
       "      <td>3.2</td>\n",
       "      <td>7.0</td>\n",
       "      <td>0.0</td>\n",
       "      <td>-28.0</td>\n",
       "      <td>6:10</td>\n",
       "      <td>21401153</td>\n",
       "      <td>21401153</td>\n",
       "      <td>H</td>\n",
       "      <td>APR 05, 2015 - LAL vs. LAC</td>\n",
       "      <td>4.0</td>\n",
       "      <td>4.0</td>\n",
       "      <td>0.0</td>\n",
       "      <td>2.0</td>\n",
       "      <td>10.9</td>\n",
       "      <td>13.8</td>\n",
       "      <td>3.0</td>\n",
       "      <td>missed</td>\n",
       "      <td>7.4</td>\n",
       "      <td>L</td>\n",
       "      <td>Shot Chart Detail</td>\n",
       "      <td>394.0</td>\n",
       "      <td>202779.0</td>\n",
       "      <td>202779</td>\n",
       "      <td>Dwight Buycks</td>\n",
       "      <td>1.610613e+09</td>\n",
       "      <td>6.0</td>\n",
       "      <td>8.0</td>\n",
       "      <td>Missed Shot</td>\n",
       "      <td>Jump Shot</td>\n",
       "      <td>2PT Field Goal</td>\n",
       "      <td>Mid-Range</td>\n",
       "      <td>Left Side Center(LC)</td>\n",
       "      <td>16-24 ft.</td>\n",
       "      <td>16.0</td>\n",
       "      <td>-108.0</td>\n",
       "      <td>127.0</td>\n",
       "      <td>1.0</td>\n",
       "      <td>0.0</td>\n",
       "      <td>6.08</td>\n",
       "    </tr>\n",
       "    <tr>\n",
       "      <th>3</th>\n",
       "      <td>3</td>\n",
       "      <td>Hudson, Lester</td>\n",
       "      <td>201991.0</td>\n",
       "      <td>8.2</td>\n",
       "      <td>0.0</td>\n",
       "      <td>1.0</td>\n",
       "      <td>-28.0</td>\n",
       "      <td>2:05</td>\n",
       "      <td>21401153</td>\n",
       "      <td>21401153</td>\n",
       "      <td>H</td>\n",
       "      <td>APR 05, 2015 - LAL vs. LAC</td>\n",
       "      <td>4.0</td>\n",
       "      <td>4.0</td>\n",
       "      <td>3.0</td>\n",
       "      <td>3.0</td>\n",
       "      <td>10.5</td>\n",
       "      <td>22.5</td>\n",
       "      <td>4.0</td>\n",
       "      <td>made</td>\n",
       "      <td>1.1</td>\n",
       "      <td>L</td>\n",
       "      <td>Shot Chart Detail</td>\n",
       "      <td>444.0</td>\n",
       "      <td>202779.0</td>\n",
       "      <td>202779</td>\n",
       "      <td>Dwight Buycks</td>\n",
       "      <td>1.610613e+09</td>\n",
       "      <td>2.0</td>\n",
       "      <td>4.0</td>\n",
       "      <td>Made Shot</td>\n",
       "      <td>Jump Shot</td>\n",
       "      <td>3PT Field Goal</td>\n",
       "      <td>Left Corner 3</td>\n",
       "      <td>Left Side(L)</td>\n",
       "      <td>24+ ft.</td>\n",
       "      <td>23.0</td>\n",
       "      <td>-234.0</td>\n",
       "      <td>32.0</td>\n",
       "      <td>1.0</td>\n",
       "      <td>1.0</td>\n",
       "      <td>2.04</td>\n",
       "    </tr>\n",
       "    <tr>\n",
       "      <th>4</th>\n",
       "      <td>4</td>\n",
       "      <td>Hamilton, Jordan</td>\n",
       "      <td>202706.0</td>\n",
       "      <td>4.3</td>\n",
       "      <td>8.0</td>\n",
       "      <td>1.0</td>\n",
       "      <td>-28.0</td>\n",
       "      <td>1:21</td>\n",
       "      <td>21401153</td>\n",
       "      <td>21401153</td>\n",
       "      <td>H</td>\n",
       "      <td>APR 05, 2015 - LAL vs. LAC</td>\n",
       "      <td>4.0</td>\n",
       "      <td>4.0</td>\n",
       "      <td>3.0</td>\n",
       "      <td>3.0</td>\n",
       "      <td>17.2</td>\n",
       "      <td>24.9</td>\n",
       "      <td>5.0</td>\n",
       "      <td>made</td>\n",
       "      <td>6.5</td>\n",
       "      <td>L</td>\n",
       "      <td>Shot Chart Detail</td>\n",
       "      <td>449.0</td>\n",
       "      <td>202779.0</td>\n",
       "      <td>202779</td>\n",
       "      <td>Dwight Buycks</td>\n",
       "      <td>1.610613e+09</td>\n",
       "      <td>1.0</td>\n",
       "      <td>19.0</td>\n",
       "      <td>Made Shot</td>\n",
       "      <td>Step Back Jump shot</td>\n",
       "      <td>3PT Field Goal</td>\n",
       "      <td>Above the Break 3</td>\n",
       "      <td>Left Side Center(LC)</td>\n",
       "      <td>24+ ft.</td>\n",
       "      <td>26.0</td>\n",
       "      <td>-193.0</td>\n",
       "      <td>179.0</td>\n",
       "      <td>1.0</td>\n",
       "      <td>1.0</td>\n",
       "      <td>1.19</td>\n",
       "    </tr>\n",
       "  </tbody>\n",
       "</table>\n",
       "</div>"
      ],
      "text/plain": [
       "   Unnamed: 0  closest_defender  closest_defender_player_id  close_def_dist  \\\n",
       "0           0    Hudson, Lester                    201991.0             2.2   \n",
       "1           1    Rivers, Austin                    203085.0             4.1   \n",
       "2           2    Rivers, Austin                    203085.0             3.2   \n",
       "3           3    Hudson, Lester                    201991.0             8.2   \n",
       "4           4  Hamilton, Jordan                    202706.0             4.3   \n",
       "\n",
       "   dribbles  fgm  final_margin game_clock   game_id  game_id.1 location  \\\n",
       "0      20.0  0.0         -28.0       0:09  21401153   21401153        H   \n",
       "1       6.0  0.0         -28.0       7:39  21401153   21401153        H   \n",
       "2       7.0  0.0         -28.0       6:10  21401153   21401153        H   \n",
       "3       0.0  1.0         -28.0       2:05  21401153   21401153        H   \n",
       "4       8.0  1.0         -28.0       1:21  21401153   21401153        H   \n",
       "\n",
       "                      matchup  period  period.1  pts  pts_type  shot_clock  \\\n",
       "0  APR 05, 2015 - LAL vs. LAC     1.0       1.0  0.0       2.0         7.5   \n",
       "1  APR 05, 2015 - LAL vs. LAC     2.0       2.0  0.0       2.0        14.6   \n",
       "2  APR 05, 2015 - LAL vs. LAC     4.0       4.0  0.0       2.0        10.9   \n",
       "3  APR 05, 2015 - LAL vs. LAC     4.0       4.0  3.0       3.0        10.5   \n",
       "4  APR 05, 2015 - LAL vs. LAC     4.0       4.0  3.0       3.0        17.2   \n",
       "\n",
       "   shot_dist  shot_number shot_result  touch_time  w          grid_type  \\\n",
       "0       18.1          1.0      missed        15.8  L  Shot Chart Detail   \n",
       "1       20.8          2.0      missed         8.8  L  Shot Chart Detail   \n",
       "2       13.8          3.0      missed         7.4  L  Shot Chart Detail   \n",
       "3       22.5          4.0        made         1.1  L  Shot Chart Detail   \n",
       "4       24.9          5.0        made         6.5  L  Shot Chart Detail   \n",
       "\n",
       "   game_event_id  player_id  player_id.1    player_name       team_id  \\\n",
       "0          105.0   202779.0       202779  Dwight Buycks  1.610613e+09   \n",
       "1          156.0   202779.0       202779  Dwight Buycks  1.610613e+09   \n",
       "2          394.0   202779.0       202779  Dwight Buycks  1.610613e+09   \n",
       "3          444.0   202779.0       202779  Dwight Buycks  1.610613e+09   \n",
       "4          449.0   202779.0       202779  Dwight Buycks  1.610613e+09   \n",
       "\n",
       "   minutes_remaining  seconds_remaining   event_type          action_type  \\\n",
       "0                0.0                7.0  Missed Shot            Jump Shot   \n",
       "1                7.0               37.0  Missed Shot            Jump Shot   \n",
       "2                6.0                8.0  Missed Shot            Jump Shot   \n",
       "3                2.0                4.0    Made Shot            Jump Shot   \n",
       "4                1.0               19.0    Made Shot  Step Back Jump shot   \n",
       "\n",
       "        shot_type    shot_zone_basic         shot_zone_area shot_zone_range  \\\n",
       "0  2PT Field Goal          Mid-Range  Right Side Center(RC)       16-24 ft.   \n",
       "1  2PT Field Goal          Mid-Range  Right Side Center(RC)       16-24 ft.   \n",
       "2  2PT Field Goal          Mid-Range   Left Side Center(LC)       16-24 ft.   \n",
       "3  3PT Field Goal      Left Corner 3           Left Side(L)         24+ ft.   \n",
       "4  3PT Field Goal  Above the Break 3   Left Side Center(LC)         24+ ft.   \n",
       "\n",
       "   shot_distance  loc_x  loc_y  shot_attempted_flag  shot_made_flag  \\\n",
       "0           16.0   87.0  144.0                  1.0             0.0   \n",
       "1           18.0  103.0  151.0                  1.0             0.0   \n",
       "2           16.0 -108.0  127.0                  1.0             0.0   \n",
       "3           23.0 -234.0   32.0                  1.0             1.0   \n",
       "4           26.0 -193.0  179.0                  1.0             1.0   \n",
       "\n",
       "   time_remaining  \n",
       "0            0.07  \n",
       "1            7.37  \n",
       "2            6.08  \n",
       "3            2.04  \n",
       "4            1.19  "
      ]
     },
     "execution_count": 53,
     "metadata": {},
     "output_type": "execute_result"
    }
   ],
   "source": [
    "pd.set_option('display.max_columns', None)\n",
    "shots.head()"
   ]
  },
  {
   "cell_type": "code",
   "execution_count": 54,
   "metadata": {
    "collapsed": false
   },
   "outputs": [
    {
     "data": {
      "text/html": [
       "<div>\n",
       "<table border=\"1\" class=\"dataframe\">\n",
       "  <thead>\n",
       "    <tr style=\"text-align: right;\">\n",
       "      <th></th>\n",
       "      <th>Unnamed: 0</th>\n",
       "      <th>closest_defender_player_id</th>\n",
       "      <th>close_def_dist</th>\n",
       "      <th>dribbles</th>\n",
       "      <th>fgm</th>\n",
       "      <th>final_margin</th>\n",
       "      <th>game_id</th>\n",
       "      <th>game_id.1</th>\n",
       "      <th>period</th>\n",
       "      <th>period.1</th>\n",
       "      <th>pts</th>\n",
       "      <th>pts_type</th>\n",
       "      <th>shot_clock</th>\n",
       "      <th>shot_dist</th>\n",
       "      <th>shot_number</th>\n",
       "      <th>touch_time</th>\n",
       "      <th>game_event_id</th>\n",
       "      <th>player_id</th>\n",
       "      <th>player_id.1</th>\n",
       "      <th>team_id</th>\n",
       "      <th>minutes_remaining</th>\n",
       "      <th>seconds_remaining</th>\n",
       "      <th>shot_distance</th>\n",
       "      <th>loc_x</th>\n",
       "      <th>loc_y</th>\n",
       "      <th>shot_attempted_flag</th>\n",
       "      <th>shot_made_flag</th>\n",
       "      <th>time_remaining</th>\n",
       "    </tr>\n",
       "  </thead>\n",
       "  <tbody>\n",
       "    <tr>\n",
       "      <th>count</th>\n",
       "      <td>379731.000000</td>\n",
       "      <td>379731.000000</td>\n",
       "      <td>379731.000000</td>\n",
       "      <td>379731.000000</td>\n",
       "      <td>379731.000000</td>\n",
       "      <td>379731.000000</td>\n",
       "      <td>3.797310e+05</td>\n",
       "      <td>3.797310e+05</td>\n",
       "      <td>379731.000000</td>\n",
       "      <td>379731.000000</td>\n",
       "      <td>379731.000000</td>\n",
       "      <td>379731.000000</td>\n",
       "      <td>379731.000000</td>\n",
       "      <td>379731.000000</td>\n",
       "      <td>379731.000000</td>\n",
       "      <td>379731.000000</td>\n",
       "      <td>379731.000000</td>\n",
       "      <td>379731.000000</td>\n",
       "      <td>379731.000000</td>\n",
       "      <td>3.797310e+05</td>\n",
       "      <td>379731.000000</td>\n",
       "      <td>379731.000000</td>\n",
       "      <td>379731.000000</td>\n",
       "      <td>379731.000000</td>\n",
       "      <td>379731.000000</td>\n",
       "      <td>379731.0</td>\n",
       "      <td>379731.000000</td>\n",
       "      <td>379731.000000</td>\n",
       "    </tr>\n",
       "    <tr>\n",
       "      <th>mean</th>\n",
       "      <td>199585.644709</td>\n",
       "      <td>155686.637127</td>\n",
       "      <td>4.148117</td>\n",
       "      <td>1.938770</td>\n",
       "      <td>0.455994</td>\n",
       "      <td>0.039381</td>\n",
       "      <td>2.135110e+07</td>\n",
       "      <td>2.135110e+07</td>\n",
       "      <td>2.508792</td>\n",
       "      <td>2.508839</td>\n",
       "      <td>1.006352</td>\n",
       "      <td>2.259091</td>\n",
       "      <td>12.488645</td>\n",
       "      <td>13.436214</td>\n",
       "      <td>6.375624</td>\n",
       "      <td>2.672236</td>\n",
       "      <td>254.479105</td>\n",
       "      <td>154737.345510</td>\n",
       "      <td>154737.345510</td>\n",
       "      <td>1.610613e+09</td>\n",
       "      <td>5.474088</td>\n",
       "      <td>29.499641</td>\n",
       "      <td>12.183253</td>\n",
       "      <td>-0.292557</td>\n",
       "      <td>79.202372</td>\n",
       "      <td>1.0</td>\n",
       "      <td>0.456044</td>\n",
       "      <td>5.769085</td>\n",
       "    </tr>\n",
       "    <tr>\n",
       "      <th>std</th>\n",
       "      <td>115909.672940</td>\n",
       "      <td>80164.877027</td>\n",
       "      <td>2.670468</td>\n",
       "      <td>3.373105</td>\n",
       "      <td>0.498060</td>\n",
       "      <td>13.633964</td>\n",
       "      <td>4.999470e+04</td>\n",
       "      <td>4.999470e+04</td>\n",
       "      <td>1.144100</td>\n",
       "      <td>1.144111</td>\n",
       "      <td>1.132881</td>\n",
       "      <td>0.438136</td>\n",
       "      <td>5.778995</td>\n",
       "      <td>8.792885</td>\n",
       "      <td>4.673309</td>\n",
       "      <td>2.880986</td>\n",
       "      <td>157.713825</td>\n",
       "      <td>80718.304469</td>\n",
       "      <td>80718.304469</td>\n",
       "      <td>8.683521e+00</td>\n",
       "      <td>3.389683</td>\n",
       "      <td>17.126694</td>\n",
       "      <td>9.597937</td>\n",
       "      <td>109.322482</td>\n",
       "      <td>83.947326</td>\n",
       "      <td>0.0</td>\n",
       "      <td>0.498065</td>\n",
       "      <td>3.383634</td>\n",
       "    </tr>\n",
       "    <tr>\n",
       "      <th>min</th>\n",
       "      <td>0.000000</td>\n",
       "      <td>708.000000</td>\n",
       "      <td>0.000000</td>\n",
       "      <td>0.000000</td>\n",
       "      <td>0.000000</td>\n",
       "      <td>-53.000000</td>\n",
       "      <td>2.130000e+07</td>\n",
       "      <td>2.130000e+07</td>\n",
       "      <td>1.000000</td>\n",
       "      <td>1.000000</td>\n",
       "      <td>0.000000</td>\n",
       "      <td>2.000000</td>\n",
       "      <td>0.000000</td>\n",
       "      <td>0.000000</td>\n",
       "      <td>1.000000</td>\n",
       "      <td>0.000000</td>\n",
       "      <td>1.000000</td>\n",
       "      <td>708.000000</td>\n",
       "      <td>708.000000</td>\n",
       "      <td>1.610613e+09</td>\n",
       "      <td>0.000000</td>\n",
       "      <td>0.000000</td>\n",
       "      <td>0.000000</td>\n",
       "      <td>-250.000000</td>\n",
       "      <td>-51.000000</td>\n",
       "      <td>1.0</td>\n",
       "      <td>0.000000</td>\n",
       "      <td>0.000000</td>\n",
       "    </tr>\n",
       "    <tr>\n",
       "      <th>25%</th>\n",
       "      <td>99139.500000</td>\n",
       "      <td>101150.000000</td>\n",
       "      <td>2.300000</td>\n",
       "      <td>0.000000</td>\n",
       "      <td>0.000000</td>\n",
       "      <td>-9.000000</td>\n",
       "      <td>2.130064e+07</td>\n",
       "      <td>2.130064e+07</td>\n",
       "      <td>1.000000</td>\n",
       "      <td>1.000000</td>\n",
       "      <td>0.000000</td>\n",
       "      <td>2.000000</td>\n",
       "      <td>8.200000</td>\n",
       "      <td>4.700000</td>\n",
       "      <td>3.000000</td>\n",
       "      <td>0.800000</td>\n",
       "      <td>116.000000</td>\n",
       "      <td>101145.000000</td>\n",
       "      <td>101145.000000</td>\n",
       "      <td>1.610613e+09</td>\n",
       "      <td>3.000000</td>\n",
       "      <td>15.000000</td>\n",
       "      <td>2.000000</td>\n",
       "      <td>-54.000000</td>\n",
       "      <td>7.000000</td>\n",
       "      <td>1.0</td>\n",
       "      <td>0.000000</td>\n",
       "      <td>3.020000</td>\n",
       "    </tr>\n",
       "    <tr>\n",
       "      <th>50%</th>\n",
       "      <td>198623.000000</td>\n",
       "      <td>201936.000000</td>\n",
       "      <td>3.700000</td>\n",
       "      <td>0.000000</td>\n",
       "      <td>0.000000</td>\n",
       "      <td>1.000000</td>\n",
       "      <td>2.140001e+07</td>\n",
       "      <td>2.140001e+07</td>\n",
       "      <td>2.000000</td>\n",
       "      <td>2.000000</td>\n",
       "      <td>0.000000</td>\n",
       "      <td>2.000000</td>\n",
       "      <td>12.300000</td>\n",
       "      <td>13.300000</td>\n",
       "      <td>5.000000</td>\n",
       "      <td>1.500000</td>\n",
       "      <td>254.000000</td>\n",
       "      <td>201935.000000</td>\n",
       "      <td>201935.000000</td>\n",
       "      <td>1.610613e+09</td>\n",
       "      <td>5.000000</td>\n",
       "      <td>30.000000</td>\n",
       "      <td>12.000000</td>\n",
       "      <td>1.000000</td>\n",
       "      <td>41.000000</td>\n",
       "      <td>1.0</td>\n",
       "      <td>0.000000</td>\n",
       "      <td>5.590000</td>\n",
       "    </tr>\n",
       "    <tr>\n",
       "      <th>75%</th>\n",
       "      <td>300060.500000</td>\n",
       "      <td>202713.000000</td>\n",
       "      <td>5.300000</td>\n",
       "      <td>2.000000</td>\n",
       "      <td>1.000000</td>\n",
       "      <td>9.000000</td>\n",
       "      <td>2.140063e+07</td>\n",
       "      <td>2.140063e+07</td>\n",
       "      <td>4.000000</td>\n",
       "      <td>4.000000</td>\n",
       "      <td>2.000000</td>\n",
       "      <td>3.000000</td>\n",
       "      <td>16.700000</td>\n",
       "      <td>22.400000</td>\n",
       "      <td>9.000000</td>\n",
       "      <td>3.600000</td>\n",
       "      <td>387.000000</td>\n",
       "      <td>202702.000000</td>\n",
       "      <td>202702.000000</td>\n",
       "      <td>1.610613e+09</td>\n",
       "      <td>8.000000</td>\n",
       "      <td>44.000000</td>\n",
       "      <td>22.000000</td>\n",
       "      <td>51.000000</td>\n",
       "      <td>151.000000</td>\n",
       "      <td>1.0</td>\n",
       "      <td>1.000000</td>\n",
       "      <td>8.540000</td>\n",
       "    </tr>\n",
       "    <tr>\n",
       "      <th>max</th>\n",
       "      <td>401494.000000</td>\n",
       "      <td>530027.000000</td>\n",
       "      <td>29.900000</td>\n",
       "      <td>34.000000</td>\n",
       "      <td>1.000000</td>\n",
       "      <td>53.000000</td>\n",
       "      <td>2.140123e+07</td>\n",
       "      <td>2.140123e+07</td>\n",
       "      <td>7.000000</td>\n",
       "      <td>7.000000</td>\n",
       "      <td>6.000000</td>\n",
       "      <td>3.000000</td>\n",
       "      <td>24.000000</td>\n",
       "      <td>39.900000</td>\n",
       "      <td>43.000000</td>\n",
       "      <td>25.400000</td>\n",
       "      <td>780.000000</td>\n",
       "      <td>204079.000000</td>\n",
       "      <td>204079.000000</td>\n",
       "      <td>1.610613e+09</td>\n",
       "      <td>12.000000</td>\n",
       "      <td>59.000000</td>\n",
       "      <td>62.000000</td>\n",
       "      <td>250.000000</td>\n",
       "      <td>612.000000</td>\n",
       "      <td>1.0</td>\n",
       "      <td>1.000000</td>\n",
       "      <td>12.000000</td>\n",
       "    </tr>\n",
       "  </tbody>\n",
       "</table>\n",
       "</div>"
      ],
      "text/plain": [
       "          Unnamed: 0  closest_defender_player_id  close_def_dist  \\\n",
       "count  379731.000000               379731.000000   379731.000000   \n",
       "mean   199585.644709               155686.637127        4.148117   \n",
       "std    115909.672940                80164.877027        2.670468   \n",
       "min         0.000000                  708.000000        0.000000   \n",
       "25%     99139.500000               101150.000000        2.300000   \n",
       "50%    198623.000000               201936.000000        3.700000   \n",
       "75%    300060.500000               202713.000000        5.300000   \n",
       "max    401494.000000               530027.000000       29.900000   \n",
       "\n",
       "            dribbles            fgm   final_margin       game_id  \\\n",
       "count  379731.000000  379731.000000  379731.000000  3.797310e+05   \n",
       "mean        1.938770       0.455994       0.039381  2.135110e+07   \n",
       "std         3.373105       0.498060      13.633964  4.999470e+04   \n",
       "min         0.000000       0.000000     -53.000000  2.130000e+07   \n",
       "25%         0.000000       0.000000      -9.000000  2.130064e+07   \n",
       "50%         0.000000       0.000000       1.000000  2.140001e+07   \n",
       "75%         2.000000       1.000000       9.000000  2.140063e+07   \n",
       "max        34.000000       1.000000      53.000000  2.140123e+07   \n",
       "\n",
       "          game_id.1         period       period.1            pts  \\\n",
       "count  3.797310e+05  379731.000000  379731.000000  379731.000000   \n",
       "mean   2.135110e+07       2.508792       2.508839       1.006352   \n",
       "std    4.999470e+04       1.144100       1.144111       1.132881   \n",
       "min    2.130000e+07       1.000000       1.000000       0.000000   \n",
       "25%    2.130064e+07       1.000000       1.000000       0.000000   \n",
       "50%    2.140001e+07       2.000000       2.000000       0.000000   \n",
       "75%    2.140063e+07       4.000000       4.000000       2.000000   \n",
       "max    2.140123e+07       7.000000       7.000000       6.000000   \n",
       "\n",
       "            pts_type     shot_clock      shot_dist    shot_number  \\\n",
       "count  379731.000000  379731.000000  379731.000000  379731.000000   \n",
       "mean        2.259091      12.488645      13.436214       6.375624   \n",
       "std         0.438136       5.778995       8.792885       4.673309   \n",
       "min         2.000000       0.000000       0.000000       1.000000   \n",
       "25%         2.000000       8.200000       4.700000       3.000000   \n",
       "50%         2.000000      12.300000      13.300000       5.000000   \n",
       "75%         3.000000      16.700000      22.400000       9.000000   \n",
       "max         3.000000      24.000000      39.900000      43.000000   \n",
       "\n",
       "          touch_time  game_event_id      player_id    player_id.1  \\\n",
       "count  379731.000000  379731.000000  379731.000000  379731.000000   \n",
       "mean        2.672236     254.479105  154737.345510  154737.345510   \n",
       "std         2.880986     157.713825   80718.304469   80718.304469   \n",
       "min         0.000000       1.000000     708.000000     708.000000   \n",
       "25%         0.800000     116.000000  101145.000000  101145.000000   \n",
       "50%         1.500000     254.000000  201935.000000  201935.000000   \n",
       "75%         3.600000     387.000000  202702.000000  202702.000000   \n",
       "max        25.400000     780.000000  204079.000000  204079.000000   \n",
       "\n",
       "            team_id  minutes_remaining  seconds_remaining  shot_distance  \\\n",
       "count  3.797310e+05      379731.000000      379731.000000  379731.000000   \n",
       "mean   1.610613e+09           5.474088          29.499641      12.183253   \n",
       "std    8.683521e+00           3.389683          17.126694       9.597937   \n",
       "min    1.610613e+09           0.000000           0.000000       0.000000   \n",
       "25%    1.610613e+09           3.000000          15.000000       2.000000   \n",
       "50%    1.610613e+09           5.000000          30.000000      12.000000   \n",
       "75%    1.610613e+09           8.000000          44.000000      22.000000   \n",
       "max    1.610613e+09          12.000000          59.000000      62.000000   \n",
       "\n",
       "               loc_x          loc_y  shot_attempted_flag  shot_made_flag  \\\n",
       "count  379731.000000  379731.000000             379731.0   379731.000000   \n",
       "mean       -0.292557      79.202372                  1.0        0.456044   \n",
       "std       109.322482      83.947326                  0.0        0.498065   \n",
       "min      -250.000000     -51.000000                  1.0        0.000000   \n",
       "25%       -54.000000       7.000000                  1.0        0.000000   \n",
       "50%         1.000000      41.000000                  1.0        0.000000   \n",
       "75%        51.000000     151.000000                  1.0        1.000000   \n",
       "max       250.000000     612.000000                  1.0        1.000000   \n",
       "\n",
       "       time_remaining  \n",
       "count   379731.000000  \n",
       "mean         5.769085  \n",
       "std          3.383634  \n",
       "min          0.000000  \n",
       "25%          3.020000  \n",
       "50%          5.590000  \n",
       "75%          8.540000  \n",
       "max         12.000000  "
      ]
     },
     "execution_count": 54,
     "metadata": {},
     "output_type": "execute_result"
    }
   ],
   "source": [
    "shots.describe()"
   ]
  },
  {
   "cell_type": "code",
   "execution_count": 55,
   "metadata": {
    "collapsed": false
   },
   "outputs": [
    {
     "data": {
      "text/plain": [
       "Unnamed: 0                      int64\n",
       "closest_defender               object\n",
       "closest_defender_player_id    float64\n",
       "close_def_dist                float64\n",
       "dribbles                      float64\n",
       "fgm                           float64\n",
       "final_margin                  float64\n",
       "game_clock                     object\n",
       "game_id                         int64\n",
       "game_id.1                       int64\n",
       "location                       object\n",
       "matchup                        object\n",
       "period                        float64\n",
       "period.1                      float64\n",
       "pts                           float64\n",
       "pts_type                      float64\n",
       "shot_clock                    float64\n",
       "shot_dist                     float64\n",
       "shot_number                   float64\n",
       "shot_result                    object\n",
       "touch_time                    float64\n",
       "w                              object\n",
       "grid_type                      object\n",
       "game_event_id                 float64\n",
       "player_id                     float64\n",
       "player_id.1                     int64\n",
       "player_name                    object\n",
       "team_id                       float64\n",
       "minutes_remaining             float64\n",
       "seconds_remaining             float64\n",
       "event_type                     object\n",
       "action_type                    object\n",
       "shot_type                      object\n",
       "shot_zone_basic                object\n",
       "shot_zone_area                 object\n",
       "shot_zone_range                object\n",
       "shot_distance                 float64\n",
       "loc_x                         float64\n",
       "loc_y                         float64\n",
       "shot_attempted_flag           float64\n",
       "shot_made_flag                float64\n",
       "time_remaining                float64\n",
       "dtype: object"
      ]
     },
     "execution_count": 55,
     "metadata": {},
     "output_type": "execute_result"
    }
   ],
   "source": [
    "shots.dtypes"
   ]
  },
  {
   "cell_type": "code",
   "execution_count": 56,
   "metadata": {
    "collapsed": false
   },
   "outputs": [],
   "source": [
    "#Create a dictionary of teams and player:player_id\n",
    "teams ={'wizards':{\n",
    "                   'garrett temple':202066,\n",
    "                   'andre miller':1889,\n",
    "                   'kevin seraphin':202338,\n",
    "                   'otto porter':203490,\n",
    "                   'rasual butler':2446,\n",
    "                   'kris humphries':2743,\n",
    "                   'nene hilario':2403,\n",
    "                   'paul pierce':1718,\n",
    "                   'marcin gortat':101162,\n",
    "                   'bradley beal':203078,\n",
    "                   'john wall':202322},\n",
    "        'magic'  :{\n",
    "                   'ben gordon':2732,\n",
    "                   'aaron gordon':203932,\n",
    "                   'kyle oquinn':203124,\n",
    "                   'channing frye':101112,\n",
    "                   'elfrid payton':203901,\n",
    "                   'evan fournier':203095,\n",
    "                   'victor oladipo':203506,\n",
    "                   'nikola vucevic':202696,\n",
    "                   'tobias harris':202699},\n",
    "        'heat'    :{\n",
    "                    'mario chalmers':201596,\n",
    "                    'dwayne wade':2548,\n",
    "                    'udonis haslem':2617,\n",
    "                    'chris andersen': 2365,\n",
    "                    'shabazz napier':203894,\n",
    "                    'james ennis':203516,\n",
    "                    'chris bosh':2547,\n",
    "                    'shawne williams':200761,\n",
    "                    'luol deng':2736,\n",
    "                    'norris cole':202708},\n",
    "        'hornets'  :{\n",
    "                    'brian roberts':203148,\n",
    "                    'michael kidd-gilchrist':203077,\n",
    "                    'jason maxiell':101131,\n",
    "                    'bismack biyombo':202687,\n",
    "                    'lance stephenson':202362,\n",
    "                    'kemba walker':202689,\n",
    "                    'gary neal':202390,\n",
    "                    'al jefferson':2744,\n",
    "                    'marvin williams':101107,\n",
    "                    'gerald henderson':201945,\n",
    "                    'cody zeller':203469},\n",
    "        'hawks'    :{'pero antic':203544,\n",
    "                     'thabo sefolosha':200757,\n",
    "                     'demarre carroll':201960,\n",
    "                     'kent bazemore':203145,\n",
    "                     'jeff teague':201952,\n",
    "                     'al horford':201143,\n",
    "                     'mike scott':203118,\n",
    "                     'dennis schroder':203471,\n",
    "                     'kyle korver':2594,\n",
    "                     'paul millsap':200794},\n",
    "        'bucks'     :{'john henson':203089,\n",
    "                      'zaza pachulia':2585,\n",
    "                      'khris middleton':203114,\n",
    "                      'jerryd bayless':201573,\n",
    "                      'brandon knight':202688,\n",
    "                      'oj mayo':201564,\n",
    "                      'jared dudley':201162,\n",
    "                      'giannis antetokounmpo':203507},\n",
    "        'pacers'    :{'cj watson':201228,\n",
    "                      'david west':2561,\n",
    "                      'donald sloan':202388,\n",
    "                      'lavoy allen':202730,\n",
    "                      'damjan rudez':204014,\n",
    "                      'chris copeland':203142,\n",
    "                      'cj miles':101139,\n",
    "                      'rodney stuckey':201155,\n",
    "                      'roy hibbert':201579,\n",
    "                      'luis scola':2449,\n",
    "                      'solomon hill':203524},\n",
    "        'pistons'    :{'brandon jennings':201943,\n",
    "                       'jonas jerebko':201973,\n",
    "                       'caron butler':2406,\n",
    "                       'greg monroe':202328,\n",
    "                       'kyle singler':202713,\n",
    "                       'kentavious caldwell-pope':203484,\n",
    "                       'dj augustin':201571,\n",
    "                       'andre drummond':203083},\n",
    "        'cavaliers'   :{'mike miller':2034,\n",
    "                        'joe harris':203925,\n",
    "                        'matthew dellavedova':203521,\n",
    "                        'lebron james':2544,\n",
    "                        'shawn marion':1890,\n",
    "                        'kevin love':201567,\n",
    "                        'kyrie irving':202681,\n",
    "                        'tristan thompson':202684},\n",
    "        'bulls'       :{'joakim noah':201149,\n",
    "                        'derrick rose':201565,\n",
    "                        'kirk hinrich':2550,\n",
    "                        'tony snell':203503,\n",
    "                        'taj gibson':201959,\n",
    "                        'jimmy butler':202710,\n",
    "                        'pau gasol':2200,\n",
    "                        'nikola mirotic':202703,\n",
    "                        'aaron brooks':201166},\n",
    "        'raptors'     :{'james johnson':201949,\n",
    "                        'tyler hansbrough':201946,\n",
    "                        'amir johnson':101161,\n",
    "                        'jonas valanciunas':202685,\n",
    "                        'kyle lowry':200768,\n",
    "                        'lou williams':101150,\n",
    "                        'greivis vasquez':202349,\n",
    "                        'patrick patterson':202335,\n",
    "                        'terrence ross':203082},\n",
    "        'sixers'       :{'jerami grant':203924,\n",
    "                         'michael carter-williams':203487,\n",
    "                         'hollis thompson':203138,\n",
    "                         'robert covington':203496,\n",
    "                         'luc mbah a moute':201601,\n",
    "                         'jakarr sampson':203960,\n",
    "                         'nerles noel':203457,\n",
    "                         'kj mcdaniels':203909,\n",
    "                         'henry sims':203156},\n",
    "        'knicks'        :{'cole aldrich':202332,\n",
    "                          'amare stoudemire':2405,\n",
    "                          'travis wear':204037,\n",
    "                          'jose calderon':101181,\n",
    "                          'carmelo anthony':2546,\n",
    "                          'pablo prigioni':203143,\n",
    "                          'quincy acy':203112,\n",
    "                          'shane larkin':203499,\n",
    "                          'tim hardaway jr':203501,\n",
    "                          'jason smith':201160},\n",
    "        'nets'           :{'jerome jordan':202366,\n",
    "                           'deron williams':101114,\n",
    "                           'mirza teletovic':203141,\n",
    "                           'brook lopez':201572,\n",
    "                           'kevin garnett':708,\n",
    "                           'joe johnson':2207,\n",
    "                           'bojan bogdanovic':202711,\n",
    "                           'alan anderson':101187,\n",
    "                           'mason plumlee':203486,\n",
    "                           'jarrett jack':101127},\n",
    "        'celtics'       :{'jeff green':201145,\n",
    "                          'marcus smart':203935,\n",
    "                          'marcus thornton':201977,\n",
    "                          'kelly olynyk':203482,\n",
    "                          'avery bradley':202340,\n",
    "                          'tyler zeller':203092,\n",
    "                          'evan turner':202323,\n",
    "                          'brandon bass':101138,\n",
    "                          'jared sullinger':203096},\n",
    "        'spurs'          :{'marco belinelli':201158,\n",
    "                           'kawhi leonard':202695,\n",
    "                           'tony parker':2225,\n",
    "                           'manu ginobili':1938,\n",
    "                           'matt bonner':2588,\n",
    "                           'aron baynes':203382,\n",
    "                           'tim duncan':1495,\n",
    "                           'cory joseph':202709,\n",
    "                           'danny green':201980,\n",
    "                           'boris diaw':2564},\n",
    "        'pelicans'        :{'dante cunningham':201967,\n",
    "                            'jrue holiday':201950,\n",
    "                            'jimmer dredette':202690,\n",
    "                            'alexis ajinca':201582,\n",
    "                            'luke babbitt':202337,\n",
    "                            'anthony davis':203076,\n",
    "                            'omer asik':201600,\n",
    "                            'ryan anderson':201583,\n",
    "                            'tyreke evans':201936},\n",
    "        'grizzlies'        :{'vince carter':1713,\n",
    "                             'zach randolph':2216,\n",
    "                             'tony allen':2754,\n",
    "                             'jon leuer':202720,\n",
    "                             'mike conley':201144,\n",
    "                             'courtney lee':201584,\n",
    "                             'beno urdih':2757,\n",
    "                             'kosta koufos':201585,\n",
    "                             'marc gasol':201188},\n",
    "        'rockets'           :{'dwight howard':2730,\n",
    "                              'kostas papanikolaou':203123,\n",
    "                              'patrick beverley':201976,\n",
    "                              'joey dorsey':201595,\n",
    "                              'jason terry':1891,\n",
    "                              'donatas motiejunas':202700,\n",
    "                              'trevor ariza':2772,\n",
    "                              'james harden':201935},\n",
    "        'mavericks'          :{'greg smith':202962,\n",
    "                               'charlie villanueva':101111,\n",
    "                               'al farouq aminu':202329,\n",
    "                               'richard jefferson':2210,\n",
    "                               'dirk nowtizski':1717,\n",
    "                               'chandler parsons':202718,\n",
    "                               'tyson chandler':2199,\n",
    "                               'devin harris':2734,\n",
    "                               'jose juan barea':200826,\n",
    "                               'mnta ellis':101145},\n",
    "        'kings'               :{'ramon sessions':201196,\n",
    "                                'omri casspi':201956,\n",
    "                                'ray mccallum':203492,\n",
    "                                'demarcus cousins':202326,\n",
    "                                'derrick williams':202682,\n",
    "                                'darren collison':201954,\n",
    "                                'carl landry':201171,\n",
    "                                'rudy gay':200752,\n",
    "                                'nik stauskas':203917,\n",
    "                                'jason thompson':201574,\n",
    "                                'ben mclemore':203463},\n",
    "        'suns'                 :{'isaiah thomas':202738,\n",
    "                                 'pj tucker':200782,\n",
    "                                 'alex len':203458,\n",
    "                                 'goran dragic':201609,\n",
    "                                 'gerald green':101123,\n",
    "                                 'eric bledsoe':202339,\n",
    "                                 'markieff morris':202693,\n",
    "                                 'marcus morris':202694},\n",
    "        'lakers'                :{'kobe bryant':977,\n",
    "                                  'nick young':201156,\n",
    "                                  'ronnie price':101179,\n",
    "                                  'wayne ellington':201961,\n",
    "                                  'robert sacre':203135,\n",
    "                                  'jordan hill':201941,\n",
    "                                  'wesley johnson':202325,\n",
    "                                  'carlos boozer':2430,\n",
    "                                  'jeremy lin':202391,\n",
    "                                  'ed davis':202334},\n",
    "        'clippers'               :{'hedo turkoglu':2045,\n",
    "                                   'jordan farmar':200770,\n",
    "                                   'spencer hawes':201150,\n",
    "                                   'glen davis':201175,\n",
    "                                   'jj redick':200755,\n",
    "                                   'blake griffin':201933,\n",
    "                                   'matt barnes':2440,\n",
    "                                   'jamal crawford':2037,\n",
    "                                   'deandre jordan':201599,\n",
    "                                   'chris paul':101108},\n",
    "        'warriors'               :{'andrew bogut':101106,\n",
    "                                   'leandro barbosa':2571,\n",
    "                                   'marreese speights':201578,\n",
    "                                   'shaun livingston':2733,\n",
    "                                   'andre iguodala':2738,\n",
    "                                   'klay thompson':202691,\n",
    "                                   'draymond green':203110,\n",
    "                                   'harrison barnes':203084,\n",
    "                                   'stephen curry':201939},\n",
    "        'jazz'                    :{'enes kanter':202683,\n",
    "                                    'derrick favors':202324,\n",
    "                                    'jon ingles':204060,\n",
    "                                    'trevor booker':202344,\n",
    "                                    'trey burke':203504,\n",
    "                                    'rudy gobert':203497,\n",
    "                                    'gordon hayward':202330,\n",
    "                                    'dante exum':203957},\n",
    "        'blazers'                  :{'alan crabbe':203459,\n",
    "                                     'cj mccollum':203468,\n",
    "                                     'nicolas batum':201587,\n",
    "                                     'lamarcus aldridge':200746,\n",
    "                                     'chris kaman':2549,\n",
    "                                     'wesley matthews':202083,\n",
    "                                     'steve blake':2581,\n",
    "                                     'damian lillard':203081},\n",
    "        'thunder'                   :{'jeremy lamb':203087,\n",
    "                                      'russell westbrook':201566,\n",
    "                                      'andre roberson':203460,\n",
    "                                      'anthony morrow':201627,\n",
    "                                      'kevin durant':201142,\n",
    "                                      'nick collison':2555,\n",
    "                                      'reggie jackson':202704,\n",
    "                                      'steve adams':203500,\n",
    "                                      'kendrick perkins':2570,\n",
    "                                      'serge ibaka':201586},\n",
    "        'timberwolves'               :{'robbie hummel':203133,\n",
    "                                       'shabazz muhammad':203498,\n",
    "                                       'mo williams':2590,\n",
    "                                       'chase budinger':201978,\n",
    "                                       'thaddeus young':201152,\n",
    "                                       'zach lavine':203897,\n",
    "                                       'anthony bennett':203461,\n",
    "                                       'gorgui dieng':203476,\n",
    "                                       'andrew wiggins':203952},\n",
    "        'nuggets'                     :{'arron afflalo':201167,\n",
    "                                        'danilo gallinai':201568,\n",
    "                                        'timofey mozgov':202389,\n",
    "                                        'nate robinson':101126,\n",
    "                                        'alonzo gee':202087,\n",
    "                                        'jusuf nurkic':203994,\n",
    "                                        'darrell arthur':201589,\n",
    "                                        'kenneth faried':202702,\n",
    "                                        'ty lawson':201951,\n",
    "                                        'wilson chandler':201163,\n",
    "                                        'jj hickson':201581}}\n",
    "#source: http://www.danielforsyth.me/exploring_nba_data_in_python/"
   ]
  },
  {
   "cell_type": "code",
   "execution_count": 57,
   "metadata": {
    "collapsed": true
   },
   "outputs": [],
   "source": [
    "players = []\n",
    "player_stats = {'name':None,'avg_dribbles':None,'avg_touch_time':None,'avg_shot_distance':None,'avg_def_distance':None,'spacing':None, 'avg_fg':None,'avg_3fg':None,'total_shots':None,'efg':None}"
   ]
  },
  {
   "cell_type": "code",
   "execution_count": 58,
   "metadata": {
    "collapsed": false
   },
   "outputs": [],
   "source": [
    "def find_stats(name,player_id):  \n",
    "    \"\"\"Appends to a dictionary of statistics for each NBA player\n",
    "\n",
    "    This function displays the average field goal points, \n",
    "    average defender distance, average shot distance, fgm, fga, fg%,\n",
    "    3 point fg%, mid-range fg%, paint fg%, and effective fg%.\n",
    "\n",
    "    Parameters\n",
    "    ----------\n",
    "    player_id : Player ID, required\n",
    "        Player ID needed to grab the respective shot log\n",
    "    name : Name, required\n",
    "        Player Name needed to create a new column\n",
    "        \n",
    "    Appends\n",
    "    -------\n",
    "    player : list of statistics\n",
    "        The associated statistics for each team\n",
    "\n",
    "    \"\"\"\n",
    "    #Create a df for a specific player\n",
    "    df = shots[(shots.player_id == player_id)]\n",
    "    avg_def = df['close_def_dist'].mean()\n",
    "    avg_dribbles = df['dribbles'].mean()\n",
    "    avg_shot_distance = df['shot_dist'].mean()\n",
    "    avg_touch_time = df['touch_time'].mean()\n",
    "    spacing = sum(df['shot_dist'])/sum(df['close_def_dist'])\n",
    "    fgm = sum(df['shot_made_flag'] == 1)\n",
    "    fga = sum(df['shot_attempted_flag'] == 1)\n",
    "    avg_fg = sum(df.shot_made_flag == 1)/sum(df.shot_attempted_flag == 1)\n",
    "    avg_3fg = (len(df[(df.shot_made_flag == 1) & (df.shot_type == '3PT Field Goal')])+.00001)/(float(len(df[(df.shot_attempted_flag == 1) & (df.shot_type == '3PT Field Goal')]))+ .00001)\n",
    "    total_shots = sum(df.shot_attempted_flag == 1)\n",
    "    efg = ((fgm) + (0.5* ((len(df[(df.shot_made_flag == 1) & (df.shot_zone_basic == 'Left Corner 3')]))+(len(df[(df.shot_made_flag == 1) & (df.shot_zone_basic == 'Right Corner 3')]))+ (len(df[(df.shot_made_flag == 1) & (df.shot_zone_basic == 'Above the Break 3')])))))/(fga)\n",
    "    #add player averages to dictionary \n",
    "    player_stats['name'] = name\n",
    "    player_stats['avg_def_distance']=avg_def\n",
    "    player_stats['avg_shot_distance'] = avg_shot_distance\n",
    "    player_stats['avg_touch_time'] = avg_touch_time\n",
    "    player_stats['avg_dribbles'] = avg_dribbles\n",
    "    player_stats['avg_fg'] = avg_fg\n",
    "    player_stats['spacing'] = spacing\n",
    "    player_stats['total_shots'] = total_shots\n",
    "    player_stats['avg_3fg'] = avg_3fg\n",
    "    player_stats['efg'] = efg\n",
    "    players.append(player_stats.copy())"
   ]
  },
  {
   "cell_type": "code",
   "execution_count": 59,
   "metadata": {
    "collapsed": false,
    "scrolled": true
   },
   "outputs": [],
   "source": [
    "#Iterate through the dictionary of team names and use the find stats function\n",
    "for x in teams:\n",
    "    for y in teams[x]:\n",
    "        find_stats(y,teams[x][y])\n",
    "#Creating a new dataframe based on the find_stats function        \n",
    "cols = ['name','avg_def_distance','avg_dribbles','avg_shot_distance','avg_touch_time','spacing','avg_fg','avg_3fg','total_shots','efg']  \n",
    "df = pd.DataFrame(players,columns = cols)\n",
    "df = df.round(3)"
   ]
  },
  {
   "cell_type": "code",
   "execution_count": 60,
   "metadata": {
    "collapsed": false
   },
   "outputs": [],
   "source": [
    "df.loc[df['avg_3fg'] == 1,'avg_3fg'] = 0.0"
   ]
  },
  {
   "cell_type": "code",
   "execution_count": 61,
   "metadata": {
    "collapsed": false
   },
   "outputs": [
    {
     "data": {
      "text/html": [
       "<div>\n",
       "<table border=\"1\" class=\"dataframe\">\n",
       "  <thead>\n",
       "    <tr style=\"text-align: right;\">\n",
       "      <th></th>\n",
       "      <th>name</th>\n",
       "      <th>avg_def_distance</th>\n",
       "      <th>avg_dribbles</th>\n",
       "      <th>avg_shot_distance</th>\n",
       "      <th>avg_touch_time</th>\n",
       "      <th>spacing</th>\n",
       "      <th>avg_fg</th>\n",
       "      <th>avg_3fg</th>\n",
       "      <th>total_shots</th>\n",
       "      <th>efg</th>\n",
       "    </tr>\n",
       "  </thead>\n",
       "  <tbody>\n",
       "    <tr>\n",
       "      <th>0</th>\n",
       "      <td>kyle korver</td>\n",
       "      <td>5.017</td>\n",
       "      <td>0.358</td>\n",
       "      <td>21.625</td>\n",
       "      <td>1.117</td>\n",
       "      <td>4.311</td>\n",
       "      <td>0.480</td>\n",
       "      <td>0.483</td>\n",
       "      <td>1127</td>\n",
       "      <td>0.649</td>\n",
       "    </tr>\n",
       "    <tr>\n",
       "      <th>238</th>\n",
       "      <td>dwight howard</td>\n",
       "      <td>2.480</td>\n",
       "      <td>1.001</td>\n",
       "      <td>4.400</td>\n",
       "      <td>2.328</td>\n",
       "      <td>1.774</td>\n",
       "      <td>0.598</td>\n",
       "      <td>0.750</td>\n",
       "      <td>1157</td>\n",
       "      <td>0.599</td>\n",
       "    </tr>\n",
       "    <tr>\n",
       "      <th>195</th>\n",
       "      <td>stephen curry</td>\n",
       "      <td>4.506</td>\n",
       "      <td>4.500</td>\n",
       "      <td>17.949</td>\n",
       "      <td>4.597</td>\n",
       "      <td>3.984</td>\n",
       "      <td>0.484</td>\n",
       "      <td>0.444</td>\n",
       "      <td>2533</td>\n",
       "      <td>0.586</td>\n",
       "    </tr>\n",
       "    <tr>\n",
       "      <th>149</th>\n",
       "      <td>lebron james</td>\n",
       "      <td>4.111</td>\n",
       "      <td>4.120</td>\n",
       "      <td>13.106</td>\n",
       "      <td>5.073</td>\n",
       "      <td>3.188</td>\n",
       "      <td>0.536</td>\n",
       "      <td>0.384</td>\n",
       "      <td>2403</td>\n",
       "      <td>0.582</td>\n",
       "    </tr>\n",
       "    <tr>\n",
       "      <th>120</th>\n",
       "      <td>amir johnson</td>\n",
       "      <td>3.308</td>\n",
       "      <td>0.411</td>\n",
       "      <td>7.970</td>\n",
       "      <td>1.304</td>\n",
       "      <td>2.409</td>\n",
       "      <td>0.562</td>\n",
       "      <td>0.350</td>\n",
       "      <td>1051</td>\n",
       "      <td>0.579</td>\n",
       "    </tr>\n",
       "  </tbody>\n",
       "</table>\n",
       "</div>"
      ],
      "text/plain": [
       "              name  avg_def_distance  avg_dribbles  avg_shot_distance  \\\n",
       "0      kyle korver             5.017         0.358             21.625   \n",
       "238  dwight howard             2.480         1.001              4.400   \n",
       "195  stephen curry             4.506         4.500             17.949   \n",
       "149   lebron james             4.111         4.120             13.106   \n",
       "120   amir johnson             3.308         0.411              7.970   \n",
       "\n",
       "     avg_touch_time  spacing  avg_fg  avg_3fg  total_shots    efg  \n",
       "0             1.117    4.311   0.480    0.483         1127  0.649  \n",
       "238           2.328    1.774   0.598    0.750         1157  0.599  \n",
       "195           4.597    3.984   0.484    0.444         2533  0.586  \n",
       "149           5.073    3.188   0.536    0.384         2403  0.582  \n",
       "120           1.304    2.409   0.562    0.350         1051  0.579  "
      ]
     },
     "execution_count": 61,
     "metadata": {},
     "output_type": "execute_result"
    }
   ],
   "source": [
    "#Ranking the NBA players with over 1000 shots by Effective FG percentage \n",
    "df = df[df.total_shots>1000]\n",
    "df.sort_values('efg', ascending=False).head()"
   ]
  },
  {
   "cell_type": "code",
   "execution_count": 62,
   "metadata": {
    "collapsed": false
   },
   "outputs": [
    {
     "data": {
      "text/plain": [
       "shot_zone_basic\n",
       "Above the Break 3        0.353961\n",
       "Backcourt                0.000000\n",
       "In The Paint (Non-RA)    0.395544\n",
       "Left Corner 3            0.387397\n",
       "Mid-Range                0.397759\n",
       "Restricted Area          0.607314\n",
       "Right Corner 3           0.392317\n",
       "Name: fgm, dtype: float64"
      ]
     },
     "execution_count": 62,
     "metadata": {},
     "output_type": "execute_result"
    }
   ],
   "source": [
    "#Looking at the league average field goal percentage of each shot zone \n",
    "shots['fgm'].groupby(shots['shot_zone_basic']).mean()"
   ]
  },
  {
   "cell_type": "code",
   "execution_count": 63,
   "metadata": {
    "collapsed": false
   },
   "outputs": [
    {
     "data": {
      "text/plain": [
       "shot_zone_basic\n",
       "Above the Break 3        0.386989\n",
       "In The Paint (Non-RA)    0.398605\n",
       "Left Corner 3            0.416830\n",
       "Mid-Range                0.408086\n",
       "Restricted Area          0.638079\n",
       "Right Corner 3           0.454148\n",
       "Name: fgm, dtype: float64"
      ]
     },
     "execution_count": 63,
     "metadata": {},
     "output_type": "execute_result"
    }
   ],
   "source": [
    "#Looking at the Warrior's field goal percentage of each shot zone\n",
    "warriors = shots[shots.team_id == 1610612744]\n",
    "warriors['fgm'].groupby(warriors['shot_zone_basic']).mean()"
   ]
  },
  {
   "cell_type": "code",
   "execution_count": 64,
   "metadata": {
    "collapsed": false
   },
   "outputs": [
    {
     "name": "stderr",
     "output_type": "stream",
     "text": [
      "//anaconda/lib/python3.5/site-packages/matplotlib/__init__.py:878: UserWarning: axes.color_cycle is deprecated and replaced with axes.prop_cycle; please use the latter.\n",
      "  warnings.warn(self.msg_depr % (key, alt_key))\n",
      "//anaconda/lib/python3.5/site-packages/matplotlib/__init__.py:898: UserWarning: axes.color_cycle is deprecated and replaced with axes.prop_cycle; please use the latter.\n",
      "  warnings.warn(self.msg_depr % (key, alt_key))\n"
     ]
    },
    {
     "data": {
      "image/png": "[encoded data removed]",
      "text/plain": [
       "<matplotlib.figure.Figure at 0x10f934a58>"
      ]
     },
     "metadata": {},
     "output_type": "display_data"
    }
   ],
   "source": [
    "sns.set(style=\"whitegrid\", color_codes=True, font_scale = 3)\n",
    "plt.figure(figsize=(35,20))\n",
    "sns.countplot(x=\"shot_zone_basic\", data=shots);"
   ]
  },
  {
   "cell_type": "code",
   "execution_count": 65,
   "metadata": {
    "collapsed": true
   },
   "outputs": [],
   "source": [
    "def team_offense(team_id,team_name):\n",
    "    \"\"\"Creates a count bar plot of a team's respective shot zone distribution.\n",
    "\n",
    "    This function graphs the count of mid-range jump shots,\n",
    "    left corner 3's, right corner 3's, above the break 3's,\n",
    "    in the paint(non-RA), and restricted area shots.\n",
    "\n",
    "    Parameters\n",
    "    ----------\n",
    "    team_id : Team ID, required\n",
    "        The Team ID needed to grab the respective shot log\n",
    "    team_name : Team Name, required\n",
    "        The Team Name needed to create a new column that used Team Name instead of the Team ID\n",
    "        \n",
    "    Plots\n",
    "    -------\n",
    "    countplot : plot of shot zone distribution\n",
    "        The associated shot zone bar chart for a respective NBA team.\n",
    "\n",
    "    \"\"\"    \n",
    "    \n",
    "    df = shots[(shots.team_id == team_id)]\n",
    "    sns.set(style=\"whitegrid\", color_codes=True, font_scale = 3)\n",
    "    plt.figure(figsize=(35,20))\n",
    "    sns.countplot(x=\"shot_zone_basic\", data=df);"
   ]
  },
  {
   "cell_type": "code",
   "execution_count": 66,
   "metadata": {
    "collapsed": false
   },
   "outputs": [
    {
     "name": "stderr",
     "output_type": "stream",
     "text": [
      "//anaconda/lib/python3.5/site-packages/matplotlib/__init__.py:878: UserWarning: axes.color_cycle is deprecated and replaced with axes.prop_cycle; please use the latter.\n",
      "  warnings.warn(self.msg_depr % (key, alt_key))\n",
      "//anaconda/lib/python3.5/site-packages/matplotlib/__init__.py:898: UserWarning: axes.color_cycle is deprecated and replaced with axes.prop_cycle; please use the latter.\n",
      "  warnings.warn(self.msg_depr % (key, alt_key))\n"
     ]
    },
    {
     "data": {
      "image/png": "[encoded data removed]",
      "text/plain": [
       "<matplotlib.figure.Figure at 0x1042dbf60>"
      ]
     },
     "metadata": {},
     "output_type": "display_data"
    }
   ],
   "source": [
    "team_offense(1610612744, 'Warriors')"
   ]
  },
  {
   "cell_type": "markdown",
   "metadata": {},
   "source": [
    "### Import Packages for Plotting"
   ]
  },
  {
   "cell_type": "code",
   "execution_count": 67,
   "metadata": {
    "collapsed": false
   },
   "outputs": [
    {
     "data": {
      "text/html": [
       "\n",
       "    <div class=\"bk-root\">\n",
       "        <a href=\"http://bokeh.pydata.org\" target=\"_blank\" class=\"bk-logo bk-logo-small bk-logo-notebook\"></a>\n",
       "        <span id=\"baf4f61f-8536-4052-a1e2-4461bfbe2222\">Loading BokehJS ...</span>\n",
       "    </div>"
      ]
     },
     "metadata": {},
     "output_type": "display_data"
    },
    {
     "data": {
      "application/javascript": [
       "\n",
       "(function(global) {\n",
       "  function now() {\n",
       "    return new Date();\n",
       "  }\n",
       "\n",
       "  var force = \"1\";\n",
       "\n",
       "  if (typeof (window._bokeh_onload_callbacks) === \"undefined\" || force !== \"\") {\n",
       "    window._bokeh_onload_callbacks = [];\n",
       "    window._bokeh_is_loading = undefined;\n",
       "  }\n",
       "\n",
       "\n",
       "  \n",
       "  if (typeof (window._bokeh_timeout) === \"undefined\" || force !== \"\") {\n",
       "    window._bokeh_timeout = Date.now() + 5000;\n",
       "    window._bokeh_failed_load = false;\n",
       "  }\n",
       "\n",
       "  var NB_LOAD_WARNING = {'data': {'text/html':\n",
       "     \"<div style='background-color: #fdd'>\\n\"+\n",
       "     \"<p>\\n\"+\n",
       "     \"BokehJS does not appear to have successfully loaded. If loading BokehJS from CDN, this \\n\"+\n",
       "     \"may be due to a slow or bad network connection. Possible fixes:\\n\"+\n",
       "     \"</p>\\n\"+\n",
       "     \"<ul>\\n\"+\n",
       "     \"<li>re-rerun `output_notebook()` to attempt to load from CDN again, or</li>\\n\"+\n",
       "     \"<li>use INLINE resources instead, as so:</li>\\n\"+\n",
       "     \"</ul>\\n\"+\n",
       "     \"<code>\\n\"+\n",
       "     \"from bokeh.resources import INLINE\\n\"+\n",
       "     \"output_notebook(resources=INLINE)\\n\"+\n",
       "     \"</code>\\n\"+\n",
       "     \"</div>\"}};\n",
       "\n",
       "  function display_loaded() {\n",
       "    if (window.Bokeh !== undefined) {\n",
       "      Bokeh.$(\"#baf4f61f-8536-4052-a1e2-4461bfbe2222\").text(\"BokehJS successfully loaded.\");\n",
       "    } else if (Date.now() < window._bokeh_timeout) {\n",
       "      setTimeout(display_loaded, 100)\n",
       "    }\n",
       "  }\n",
       "\n",
       "  function run_callbacks() {\n",
       "    window._bokeh_onload_callbacks.forEach(function(callback) { callback() });\n",
       "    delete window._bokeh_onload_callbacks\n",
       "    console.info(\"Bokeh: all callbacks have finished\");\n",
       "  }\n",
       "\n",
       "  function load_libs(js_urls, callback) {\n",
       "    window._bokeh_onload_callbacks.push(callback);\n",
       "    if (window._bokeh_is_loading > 0) {\n",
       "      console.log(\"Bokeh: BokehJS is being loaded, scheduling callback at\", now());\n",
       "      return null;\n",
       "    }\n",
       "    if (js_urls == null || js_urls.length === 0) {\n",
       "      run_callbacks();\n",
       "      return null;\n",
       "    }\n",
       "    console.log(\"Bokeh: BokehJS not loaded, scheduling load and callback at\", now());\n",
       "    window._bokeh_is_loading = js_urls.length;\n",
       "    for (var i = 0; i < js_urls.length; i++) {\n",
       "      var url = js_urls[i];\n",
       "      var s = document.createElement('script');\n",
       "      s.src = url;\n",
       "      s.async = false;\n",
       "      s.onreadystatechange = s.onload = function() {\n",
       "        window._bokeh_is_loading--;\n",
       "        if (window._bokeh_is_loading === 0) {\n",
       "          console.log(\"Bokeh: all BokehJS libraries loaded\");\n",
       "          run_callbacks()\n",
       "        }\n",
       "      };\n",
       "      s.onerror = function() {\n",
       "        console.warn(\"failed to load library \" + url);\n",
       "      };\n",
       "      console.log(\"Bokeh: injecting script tag for BokehJS library: \", url);\n",
       "      document.getElementsByTagName(\"head\")[0].appendChild(s);\n",
       "    }\n",
       "  };var element = document.getElementById(\"baf4f61f-8536-4052-a1e2-4461bfbe2222\");\n",
       "  if (element == null) {\n",
       "    console.log(\"Bokeh: ERROR: autoload.js configured with elementid 'baf4f61f-8536-4052-a1e2-4461bfbe2222' but no matching script tag was found. \")\n",
       "    return false;\n",
       "  }\n",
       "\n",
       "  var js_urls = ['https://cdn.pydata.org/bokeh/release/bokeh-0.12.2.min.js', 'https://cdn.pydata.org/bokeh/release/bokeh-widgets-0.12.2.min.js', 'https://cdn.pydata.org/bokeh/release/bokeh-compiler-0.12.2.min.js'];\n",
       "\n",
       "  var inline_js = [\n",
       "    function(Bokeh) {\n",
       "      Bokeh.set_log_level(\"info\");\n",
       "    },\n",
       "    \n",
       "    function(Bokeh) {\n",
       "      \n",
       "      Bokeh.$(\"#baf4f61f-8536-4052-a1e2-4461bfbe2222\").text(\"BokehJS is loading...\");\n",
       "    },\n",
       "    function(Bokeh) {\n",
       "      console.log(\"Bokeh: injecting CSS: https://cdn.pydata.org/bokeh/release/bokeh-0.12.2.min.css\");\n",
       "      Bokeh.embed.inject_css(\"https://cdn.pydata.org/bokeh/release/bokeh-0.12.2.min.css\");\n",
       "      console.log(\"Bokeh: injecting CSS: https://cdn.pydata.org/bokeh/release/bokeh-widgets-0.12.2.min.css\");\n",
       "      Bokeh.embed.inject_css(\"https://cdn.pydata.org/bokeh/release/bokeh-widgets-0.12.2.min.css\");\n",
       "    }\n",
       "  ];\n",
       "\n",
       "  function run_inline_js() {\n",
       "    \n",
       "    if ((window.Bokeh !== undefined) || (force === \"1\")) {\n",
       "      for (var i = 0; i < inline_js.length; i++) {\n",
       "        inline_js[i](window.Bokeh);\n",
       "      }if (force === \"1\") {\n",
       "        display_loaded();\n",
       "      }} else if (Date.now() < window._bokeh_timeout) {\n",
       "      setTimeout(run_inline_js, 100);\n",
       "    } else if (!window._bokeh_failed_load) {\n",
       "      console.log(\"Bokeh: BokehJS failed to load within specified timeout.\");\n",
       "      window._bokeh_failed_load = true;\n",
       "    } else if (!force) {\n",
       "      var cell = $(\"#baf4f61f-8536-4052-a1e2-4461bfbe2222\").parents('.cell').data().cell;\n",
       "      cell.output_area.append_execute_result(NB_LOAD_WARNING)\n",
       "    }\n",
       "\n",
       "  }\n",
       "\n",
       "  if (window._bokeh_is_loading === 0) {\n",
       "    console.log(\"Bokeh: BokehJS loaded, going straight to plotting\");\n",
       "    run_inline_js();\n",
       "  } else {\n",
       "    load_libs(js_urls, function() {\n",
       "      console.log(\"Bokeh: BokehJS plotting callback run at\", now());\n",
       "      run_inline_js();\n",
       "    });\n",
       "  }\n",
       "}(this));"
      ]
     },
     "metadata": {},
     "output_type": "display_data"
    }
   ],
   "source": [
    "from bokeh.plotting import output_notebook, show\n",
    "from bokeh.plotting import figure, ColumnDataSource\n",
    "from bokeh.models import HoverTool\n",
    "import numpy as np\n",
    "import bokeh.plotting\n",
    "output_notebook()"
   ]
  },
  {
   "cell_type": "code",
   "execution_count": 68,
   "metadata": {
    "collapsed": true
   },
   "outputs": [],
   "source": [
    "from bokeh.plotting import figure, ColumnDataSource\n",
    "from bokeh.models import HoverTool\n",
    "\n",
    "\n",
    "def scatter_with_hover(df, x, y,\n",
    "                       fig=None, cols=None, name=None, marker='square',\n",
    "                       fig_width=600, fig_height=600, **kwargs):\n",
    "\n",
    "    # If we haven't been given a Figure obj then create it with default\n",
    "    # size etc.\n",
    "    if fig is None:\n",
    "        fig = figure(width=fig_width, height=fig_height, tools=['box_zoom', 'reset'])\n",
    "\n",
    "    # We're getting data from the given dataframe\n",
    "    source = ColumnDataSource(data=df)\n",
    "\n",
    "    # We need a name so that we can restrict hover tools to just this\n",
    "    # particular 'series' on the plot. You can specify it (in case it\n",
    "    # needs to be something specific for other reasons), otherwise\n",
    "    # we just use 'main'\n",
    "    if name is None:\n",
    "        name = 'main'\n",
    "\n",
    "    # Actually do the scatter plot - the easy bit\n",
    "    # (other keyword arguments will be passed to this function)\n",
    "    fig.scatter(df[x], df[y], source=source, name=name, marker=marker, **kwargs)\n",
    "\n",
    "    # Now we create the hover tool, and make sure it is only active with\n",
    "    # the series we plotted in the previous line\n",
    "    hover = HoverTool(names=[name])\n",
    "\n",
    "    if cols is None:\n",
    "        # Display *all* columns in the tooltips\n",
    "        hover.tooltips = [(c, '@' + c) for c in df.columns]\n",
    "    else:\n",
    "        # Display just the given columns in the tooltips\n",
    "        hover.tooltips = [(c, '@' + c) for c in cols]\n",
    "\n",
    "    # Finally add/enable the tool\n",
    "    fig.add_tools(hover)\n",
    "\n",
    "    return fig"
   ]
  },
  {
   "cell_type": "code",
   "execution_count": 69,
   "metadata": {
    "collapsed": false
   },
   "outputs": [
    {
     "data": {
      "text/html": [
       "\n",
       "\n",
       "    <div class=\"bk-root\">\n",
       "        <div class=\"plotdiv\" id=\"b8986d07-a586-4925-8a22-3f872d2dc51e\"></div>\n",
       "    </div>\n",
       "<script type=\"text/javascript\">\n",
       "  \n",
       "  (function(global) {\n",
       "    function now() {\n",
       "      return new Date();\n",
       "    }\n",
       "  \n",
       "    var force = \"\";\n",
       "  \n",
       "    if (typeof (window._bokeh_onload_callbacks) === \"undefined\" || force !== \"\") {\n",
       "      window._bokeh_onload_callbacks = [];\n",
       "      window._bokeh_is_loading = undefined;\n",
       "    }\n",
       "  \n",
       "  \n",
       "    \n",
       "    if (typeof (window._bokeh_timeout) === \"undefined\" || force !== \"\") {\n",
       "      window._bokeh_timeout = Date.now() + 0;\n",
       "      window._bokeh_failed_load = false;\n",
       "    }\n",
       "  \n",
       "    var NB_LOAD_WARNING = {'data': {'text/html':\n",
       "       \"<div style='background-color: #fdd'>\\n\"+\n",
       "       \"<p>\\n\"+\n",
       "       \"BokehJS does not appear to have successfully loaded. If loading BokehJS from CDN, this \\n\"+\n",
       "       \"may be due to a slow or bad network connection. Possible fixes:\\n\"+\n",
       "       \"</p>\\n\"+\n",
       "       \"<ul>\\n\"+\n",
       "       \"<li>re-rerun `output_notebook()` to attempt to load from CDN again, or</li>\\n\"+\n",
       "       \"<li>use INLINE resources instead, as so:</li>\\n\"+\n",
       "       \"</ul>\\n\"+\n",
       "       \"<code>\\n\"+\n",
       "       \"from bokeh.resources import INLINE\\n\"+\n",
       "       \"output_notebook(resources=INLINE)\\n\"+\n",
       "       \"</code>\\n\"+\n",
       "       \"</div>\"}};\n",
       "  \n",
       "    function display_loaded() {\n",
       "      if (window.Bokeh !== undefined) {\n",
       "        Bokeh.$(\"#b8986d07-a586-4925-8a22-3f872d2dc51e\").text(\"BokehJS successfully loaded.\");\n",
       "      } else if (Date.now() < window._bokeh_timeout) {\n",
       "        setTimeout(display_loaded, 100)\n",
       "      }\n",
       "    }\n",
       "  \n",
       "    function run_callbacks() {\n",
       "      window._bokeh_onload_callbacks.forEach(function(callback) { callback() });\n",
       "      delete window._bokeh_onload_callbacks\n",
       "      console.info(\"Bokeh: all callbacks have finished\");\n",
       "    }\n",
       "  \n",
       "    function load_libs(js_urls, callback) {\n",
       "      window._bokeh_onload_callbacks.push(callback);\n",
       "      if (window._bokeh_is_loading > 0) {\n",
       "        console.log(\"Bokeh: BokehJS is being loaded, scheduling callback at\", now());\n",
       "        return null;\n",
       "      }\n",
       "      if (js_urls == null || js_urls.length === 0) {\n",
       "        run_callbacks();\n",
       "        return null;\n",
       "      }\n",
       "      console.log(\"Bokeh: BokehJS not loaded, scheduling load and callback at\", now());\n",
       "      window._bokeh_is_loading = js_urls.length;\n",
       "      for (var i = 0; i < js_urls.length; i++) {\n",
       "        var url = js_urls[i];\n",
       "        var s = document.createElement('script');\n",
       "        s.src = url;\n",
       "        s.async = false;\n",
       "        s.onreadystatechange = s.onload = function() {\n",
       "          window._bokeh_is_loading--;\n",
       "          if (window._bokeh_is_loading === 0) {\n",
       "            console.log(\"Bokeh: all BokehJS libraries loaded\");\n",
       "            run_callbacks()\n",
       "          }\n",
       "        };\n",
       "        s.onerror = function() {\n",
       "          console.warn(\"failed to load library \" + url);\n",
       "        };\n",
       "        console.log(\"Bokeh: injecting script tag for BokehJS library: \", url);\n",
       "        document.getElementsByTagName(\"head\")[0].appendChild(s);\n",
       "      }\n",
       "    };var element = document.getElementById(\"b8986d07-a586-4925-8a22-3f872d2dc51e\");\n",
       "    if (element == null) {\n",
       "      console.log(\"Bokeh: ERROR: autoload.js configured with elementid 'b8986d07-a586-4925-8a22-3f872d2dc51e' but no matching script tag was found. \")\n",
       "      return false;\n",
       "    }\n",
       "  \n",
       "    var js_urls = [];\n",
       "  \n",
       "    var inline_js = [\n",
       "      function(Bokeh) {\n",
       "        Bokeh.$(function() {\n",
       "            var docs_json = {\"e1a3ffe0-7dbe-42c7-9ae8-4186f381dc5a\":{\"roots\":{\"references\":[{\"attributes\":{\"formatter\":{\"id\":\"09a06710-a75d-4f73-ac28-47c63fba8cac\",\"type\":\"BasicTickFormatter\"},\"plot\":{\"id\":\"2904ca9c-9de8-4f77-8662-fcb102398628\",\"subtype\":\"Figure\",\"type\":\"Plot\"},\"ticker\":{\"id\":\"d8ea6d1c-4948-4827-a435-67065d1c125b\",\"type\":\"BasicTicker\"}},\"id\":\"0d6e6db1-66fa-4b24-a52e-25dda1fc37fc\",\"type\":\"LinearAxis\"},{\"attributes\":{\"callback\":null,\"column_names\":[\"spacing\",\"avg_3fg\",\"name\",\"total_shots\",\"efg\",\"avg_def_distance\",\"avg_shot_distance\",\"avg_touch_time\",\"index\",\"avg_dribbles\",\"avg_fg\",\"x\",\"y\"],\"data\":{\"avg_3fg\":[0.483,0.349,0.357,0.393,0.366,0.357,0.281,0.359,0.332,0.255,0.348,0.377,0.372,0.154,0.365,0.388,0.351,0.33,0.311,0.38,0.391,0.306,0.319,0.375,0.375,0.423,0.36,0.346,0.331,0.356,0.34,0.326,0.25,0.385,0.359,0.354,0.327,0.425,0.403,0.0,0.424,0.333,0.0,0.406,0.388,0.143,0.356,0.382,0.331,0.355,0.0,0.393,0.364,0.35,0.39,0.367,0.278,0.333,0.192,0.383,0.333,0.0,0.404,0.36,0.365,0.0,0.406,0.384,0.383,0.375,0.28,0.301,0.352,0.378,0.333,0.359,0.338,0.0,0.222,0.4,0.399,0.364,0.344,0.369,0.339,0.364,0.37,0.378,0.38,0.387,0.341,0.388,0.226,0.432,0.34,0.444,0.0,0.387,0.348,0.0,0.347,0.397,0.441,0.364,0.419,0.418,0.364,0.347,0.414,0.356,0.286,0.182,0.302,0.372,0.385,0.75,0.34,0.333,0.308,0.339,0.378,0.338,0.444,0.323,0.388,0.412,0.327,0.286,0.0,0.3,0.384,0.393,0.359,0.143],\"avg_def_distance\":[5.017,4.226,4.741,4.713,4.044,4.474,3.441,4.757,4.094,3.293,3.936,4.287,4.172,3.392,3.513,4.543,4.899,3.275,3.744,4.264,4.32,4.154,4.135,4.158,4.085,4.62,4.333,4.747,3.787,3.466,4.609,4.178,3.023,4.755,3.999,5.371,4.453,5.013,4.556,3.182,3.691,4.344,3.485,3.726,5.499,3.772,3.82,4.714,3.966,4.332,2.953,4.473,4.086,3.308,4.515,4.398,3.968,3.069,4.142,3.781,3.941,3.655,3.763,4.041,4.807,2.877,3.768,4.111,4.366,3.604,4.097,3.755,3.972,4.354,2.891,4.316,4.081,3.146,3.196,4.012,4.892,4.121,5.351,4.194,4.445,4.726,3.838,3.93,4.578,4.595,4.007,5.027,4.187,4.282,4.887,4.506,2.627,4.313,4.558,2.566,4.207,3.851,4.626,4.56,5.146,4.976,4.288,4.7,3.706,4.293,3.565,3.618,3.346,3.966,5.325,2.48,4.043,3.261,4.105,4.006,4.884,3.943,4.524,3.771,4.186,4.6,4.433,4.169,3.399,3.03,4.609,4.412,4.404,4.246],\"avg_dribbles\":[0.358,5.66,0.529,0.883,1.026,3.213,3.288,0.585,1.042,4.64,4.941,4.671,3.089,0.951,2.681,4.117,0.997,1.41,1.08,4.576,0.682,3.384,5.677,1.271,1.538,1.187,4.491,3.025,1.613,0.558,2.552,3.472,0.583,0.504,2.827,0.436,1.109,0.755,5.656,0.568,1.025,1.148,0.602,5.25,0.315,0.62,4.435,2.03,1.245,3.421,0.598,1.359,4.418,0.411,3.122,0.9,0.486,0.705,0.847,3.151,0.529,0.647,2.381,3.683,0.62,0.646,5.115,4.12,0.55,0.865,0.799,3.287,1.609,1.701,0.697,5.208,1.466,0.522,0.337,1.638,1.119,1.18,1.339,4.8,5.047,1.057,3.899,4.436,1.197,1.584,0.892,1.506,0.426,1.344,0.566,4.5,0.472,4.711,1.252,1.023,5.34,2.037,2.5,1.294,0.773,0.977,1.769,1.36,5.82,2.365,0.682,0.527,4.219,4.418,0.792,1.001,4.616,0.627,2.798,1.791,0.244,5.424,0.878,5.01,1.049,1.782,5.443,0.618,0.484,0.922,1.266,4.089,1.517,0.709],\"avg_fg\":[0.48,0.456,0.544,0.482,0.473,0.443,0.505,0.49,0.445,0.404,0.441,0.428,0.445,0.479,0.457,0.477,0.413,0.441,0.461,0.419,0.482,0.452,0.403,0.469,0.414,0.46,0.422,0.42,0.475,0.502,0.431,0.379,0.521,0.442,0.414,0.446,0.518,0.47,0.485,0.487,0.486,0.44,0.471,0.415,0.421,0.508,0.431,0.437,0.471,0.414,0.551,0.421,0.423,0.562,0.421,0.413,0.473,0.441,0.483,0.447,0.513,0.475,0.419,0.429,0.426,0.504,0.458,0.536,0.451,0.493,0.44,0.426,0.428,0.443,0.539,0.438,0.42,0.498,0.548,0.449,0.448,0.462,0.433,0.43,0.462,0.441,0.503,0.445,0.447,0.436,0.48,0.445,0.477,0.457,0.431,0.484,0.567,0.42,0.405,0.496,0.382,0.453,0.443,0.414,0.437,0.471,0.497,0.488,0.492,0.447,0.504,0.54,0.451,0.45,0.435,0.598,0.401,0.504,0.453,0.437,0.519,0.446,0.465,0.442,0.457,0.423,0.442,0.508,0.555,0.482,0.462,0.452,0.389,0.488],\"avg_shot_distance\":[21.625,11.833,11.564,14.255,10.848,13.295,11.583,14.576,13.731,11.483,15.116,15.552,15.869,8.501,12.659,14.396,16.682,11.598,10.53,18.436,17.063,13.441,14.04,13.688,17.055,16.144,15.791,16.527,10.315,7.956,15.2,16.86,7.49,14.465,18.379,16.63,10.865,19.329,16.222,8.348,10.163,13.589,7.676,15.055,20.082,9.8,12.492,14.635,12.289,18.089,6.098,18.049,16.434,7.97,16.947,18.68,11.652,9.035,12.347,12.162,9.91,10.247,17.518,13.92,17.272,5.889,14.59,13.106,15.016,10.128,12.453,12.271,14.652,17.294,5.932,13.991,15.48,6.842,6.046,16.304,17.582,13.298,17.847,16.183,13.192,13.479,12.152,14.829,16.261,18.12,11.956,13.702,11.403,16.903,14.389,17.949,4.159,15.63,16.335,5.652,16.079,15.439,20.334,18.162,18.785,17.733,13.449,11.546,11.535,14.727,9.265,10.084,8.927,15.255,17.061,4.4,14.952,9.807,13.167,14.423,13.328,13.452,17.658,13.309,16.736,16.738,14.836,9.829,7.653,8.446,16.115,14.158,17.53,10.989],\"avg_touch_time\":[1.117,5.386,1.847,1.614,1.995,3.409,4.002,1.8,1.892,4.778,5.032,4.804,3.62,2.358,3.633,4.473,1.686,2.433,2.237,4.388,2.146,4.018,5.308,2.287,2.243,1.872,4.309,3.495,2.508,1.753,3.21,3.714,1.779,1.542,3.357,1.306,2.372,1.489,5.747,1.765,2.372,2.178,1.556,4.969,1.248,1.594,4.551,2.616,2.13,4.099,1.919,2.034,4.539,1.304,3.632,1.577,1.501,2.134,1.933,3.677,1.919,1.908,3.087,4.221,1.497,1.68,5.121,5.073,1.834,2.013,1.921,3.73,2.553,2.024,1.627,5.323,2.348,1.58,1.325,2.329,2.03,2.354,2.052,4.9,5.221,1.892,4.087,4.598,2.183,2.485,2.185,2.405,1.346,2.124,1.375,4.597,1.258,4.574,1.899,2.541,5.085,3.371,2.823,1.984,1.477,1.683,2.645,2.166,5.147,3.113,2.035,1.83,4.84,5.179,1.647,2.328,4.624,2.464,3.418,2.598,1.317,5.376,1.521,5.111,2.102,2.283,5.56,2.152,1.677,2.399,1.985,4.195,2.527,2.177],\"efg\":[0.649,0.496,0.55,0.569,0.512,0.509,0.514,0.531,0.486,0.426,0.476,0.492,0.511,0.479,0.489,0.528,0.491,0.459,0.489,0.487,0.531,0.479,0.456,0.541,0.488,0.528,0.482,0.471,0.495,0.507,0.479,0.439,0.521,0.513,0.491,0.546,0.522,0.572,0.539,0.487,0.49,0.484,0.471,0.495,0.54,0.509,0.472,0.514,0.507,0.497,0.551,0.524,0.498,0.579,0.512,0.509,0.476,0.441,0.485,0.474,0.514,0.475,0.5,0.484,0.498,0.504,0.516,0.582,0.524,0.498,0.473,0.449,0.483,0.497,0.54,0.478,0.495,0.498,0.551,0.514,0.555,0.469,0.519,0.508,0.505,0.509,0.552,0.515,0.521,0.533,0.503,0.505,0.48,0.547,0.5,0.586,0.567,0.499,0.48,0.496,0.451,0.5,0.557,0.505,0.565,0.563,0.544,0.526,0.51,0.522,0.504,0.54,0.472,0.522,0.543,0.599,0.447,0.505,0.49,0.461,0.545,0.486,0.567,0.475,0.544,0.485,0.475,0.509,0.555,0.483,0.526,0.509,0.476,0.488],\"index\":[0,1,3,4,7,12,13,15,16,21,31,37,38,41,42,48,49,52,55,58,61,63,67,68,71,72,73,74,76,77,78,80,83,87,90,91,92,93,94,95,96,97,98,100,106,108,110,111,112,114,115,116,119,120,121,123,127,130,131,132,134,138,139,140,141,145,148,149,150,151,153,154,158,159,160,162,163,165,166,168,171,176,177,178,179,180,181,183,184,185,186,187,191,192,193,195,196,199,200,202,203,208,209,211,215,216,217,219,220,221,222,226,232,233,235,238,242,244,245,248,254,255,257,260,263,264,265,266,269,272,275,276,278,279],\"name\":[\"kyle korver\",\"jeff teague\",\"al horford\",\"demarre carroll\",\"paul millsap\",\"mario chalmers\",\"dwayne wade\",\"chris bosh\",\"luol deng\",\"michael carter-williams\",\"jarrett jack\",\"deron williams\",\"joe johnson\",\"demarcus cousins\",\"rudy gay\",\"darren collison\",\"ben mclemore\",\"andrew wiggins\",\"thaddeus young\",\"mo williams\",\"dirk nowtizski\",\"mnta ellis\",\"jose juan barea\",\"chandler parsons\",\"oj mayo\",\"khris middleton\",\"brandon knight\",\"jerryd bayless\",\"giannis antetokounmpo\",\"enes kanter\",\"gordon hayward\",\"trey burke\",\"derrick favors\",\"spencer hawes\",\"jamal crawford\",\"matt barnes\",\"blake griffin\",\"jj redick\",\"chris paul\",\"taj gibson\",\"pau gasol\",\"jimmy butler\",\"joakim noah\",\"aaron brooks\",\"channing frye\",\"nikola vucevic\",\"victor oladipo\",\"evan fournier\",\"tobias harris\",\"lou williams\",\"jonas valanciunas\",\"terrence ross\",\"kyle lowry\",\"amir johnson\",\"greivis vasquez\",\"cj miles\",\"luis scola\",\"roy hibbert\",\"david west\",\"rodney stuckey\",\"jordan hill\",\"carlos boozer\",\"nick young\",\"jeremy lin\",\"wesley johnson\",\"tristan thompson\",\"kyrie irving\",\"lebron james\",\"kevin love\",\"brandon bass\",\"jared sullinger\",\"evan turner\",\"jeff green\",\"avery bradley\",\"kenneth faried\",\"ty lawson\",\"wilson chandler\",\"jj hickson\",\"timofey mozgov\",\"arron afflalo\",\"wesley matthews\",\"lamarcus aldridge\",\"nicolas batum\",\"damian lillard\",\"eric bledsoe\",\"pj tucker\",\"goran dragic\",\"isaiah thomas\",\"marcus morris\",\"gerald green\",\"markieff morris\",\"harrison barnes\",\"marreese speights\",\"klay thompson\",\"draymond green\",\"stephen curry\",\"andre drummond\",\"dj augustin\",\"kentavious caldwell-pope\",\"greg monroe\",\"brandon jennings\",\"carmelo anthony\",\"jose calderon\",\"tim hardaway jr\",\"danny green\",\"marco belinelli\",\"kawhi leonard\",\"boris diaw\",\"tony parker\",\"manu ginobili\",\"tim duncan\",\"anthony davis\",\"tyreke evans\",\"james harden\",\"trevor ariza\",\"dwight howard\",\"kemba walker\",\"al jefferson\",\"lance stephenson\",\"gerald henderson\",\"serge ibaka\",\"reggie jackson\",\"anthony morrow\",\"russell westbrook\",\"paul pierce\",\"bradley beal\",\"john wall\",\"nene hilario\",\"marcin gortat\",\"zach randolph\",\"courtney lee\",\"mike conley\",\"vince carter\",\"marc gasol\"],\"spacing\":[4.311,2.8,2.439,3.024,2.683,2.971,3.367,3.064,3.354,3.487,3.84,3.628,3.804,2.506,3.603,3.169,3.405,3.542,2.813,4.324,3.95,3.236,3.396,3.292,4.175,3.495,3.644,3.482,2.724,2.295,3.298,4.035,2.478,3.042,4.596,3.096,2.44,3.855,3.561,2.624,2.753,3.128,2.203,4.04,3.652,2.598,3.27,3.104,3.098,4.176,2.065,4.035,4.022,2.409,3.754,4.247,2.937,2.944,2.981,3.217,2.515,2.804,4.656,3.445,3.593,2.047,3.873,3.188,3.439,2.81,3.04,3.268,3.689,3.972,2.052,3.242,3.793,2.175,1.892,4.064,3.594,3.227,3.335,3.859,2.968,2.852,3.166,3.773,3.552,3.944,2.984,2.726,2.723,3.948,2.944,3.984,1.583,3.624,3.584,2.203,3.822,4.009,4.396,3.983,3.65,3.563,3.137,2.457,3.112,3.43,2.599,2.787,2.668,3.846,3.204,1.774,3.698,3.007,3.208,3.601,2.729,3.412,3.903,3.529,3.998,3.639,3.347,2.357,2.252,2.787,3.496,3.209,3.981,2.588],\"total_shots\":[1127,1758,1276,1209,1847,1133,1744,1627,1511,1851,1346,1367,1793,2013,2065,1150,1379,1061,2106,1423,2266,2500,1125,1702,1092,1590,1822,1050,1081,1667,1918,1772,1562,1231,1691,1093,2401,1288,1935,1272,1859,1485,1131,1274,1203,1725,1859,1049,1564,1308,1257,1405,1931,1051,1312,1140,1107,1386,1552,1493,1137,1418,1235,1159,1209,1188,2296,2403,2224,1342,1519,1635,1995,1726,1483,1618,1641,1060,1059,1777,1675,2625,1369,2470,1508,1116,1972,1673,1327,1676,1852,1274,1026,2432,1163,2533,1639,1246,1351,1809,1543,2141,1061,1288,1143,1081,1381,1159,1662,1076,1608,2042,1854,2433,1685,1157,1778,2264,1346,1614,1637,1757,1073,2029,1207,1914,2258,1149,1531,2029,1175,1761,1155,1682],\"x\":[1127,1758,1276,1209,1847,1133,1744,1627,1511,1851,1346,1367,1793,2013,2065,1150,1379,1061,2106,1423,2266,2500,1125,1702,1092,1590,1822,1050,1081,1667,1918,1772,1562,1231,1691,1093,2401,1288,1935,1272,1859,1485,1131,1274,1203,1725,1859,1049,1564,1308,1257,1405,1931,1051,1312,1140,1107,1386,1552,1493,1137,1418,1235,1159,1209,1188,2296,2403,2224,1342,1519,1635,1995,1726,1483,1618,1641,1060,1059,1777,1675,2625,1369,2470,1508,1116,1972,1673,1327,1676,1852,1274,1026,2432,1163,2533,1639,1246,1351,1809,1543,2141,1061,1288,1143,1081,1381,1159,1662,1076,1608,2042,1854,2433,1685,1157,1778,2264,1346,1614,1637,1757,1073,2029,1207,1914,2258,1149,1531,2029,1175,1761,1155,1682],\"y\":[0.649,0.496,0.55,0.569,0.512,0.509,0.514,0.531,0.486,0.426,0.476,0.492,0.511,0.479,0.489,0.528,0.491,0.459,0.489,0.487,0.531,0.479,0.456,0.541,0.488,0.528,0.482,0.471,0.495,0.507,0.479,0.439,0.521,0.513,0.491,0.546,0.522,0.572,0.539,0.487,0.49,0.484,0.471,0.495,0.54,0.509,0.472,0.514,0.507,0.497,0.551,0.524,0.498,0.579,0.512,0.509,0.476,0.441,0.485,0.474,0.514,0.475,0.5,0.484,0.498,0.504,0.516,0.582,0.524,0.498,0.473,0.449,0.483,0.497,0.54,0.478,0.495,0.498,0.551,0.514,0.555,0.469,0.519,0.508,0.505,0.509,0.552,0.515,0.521,0.533,0.503,0.505,0.48,0.547,0.5,0.586,0.567,0.499,0.48,0.496,0.451,0.5,0.557,0.505,0.565,0.563,0.544,0.526,0.51,0.522,0.504,0.54,0.472,0.522,0.543,0.599,0.447,0.505,0.49,0.461,0.545,0.486,0.567,0.475,0.544,0.485,0.475,0.509,0.555,0.483,0.526,0.509,0.476,0.488]}},\"id\":\"eda24c91-9382-4104-8cf5-4f01bb6f7dc2\",\"type\":\"ColumnDataSource\"},{\"attributes\":{\"callback\":null},\"id\":\"05ee176f-ed5e-4453-b8f8-445ea71214ce\",\"type\":\"DataRange1d\"},{\"attributes\":{\"data_source\":{\"id\":\"eda24c91-9382-4104-8cf5-4f01bb6f7dc2\",\"type\":\"ColumnDataSource\"},\"glyph\":{\"id\":\"8ac9b1ab-1120-4586-9f2d-5e14433bf89a\",\"type\":\"Square\"},\"hover_glyph\":null,\"name\":\"main\",\"nonselection_glyph\":{\"id\":\"d461cd74-2a68-4bb1-88d8-c7423f044391\",\"type\":\"Square\"},\"selection_glyph\":null},\"id\":\"b1df345b-c1e4-4000-914e-6ff70b347993\",\"type\":\"GlyphRenderer\"},{\"attributes\":{\"overlay\":{\"id\":\"42311e2c-98bf-47e5-82f9-cd92a4b5929d\",\"type\":\"BoxAnnotation\"},\"plot\":{\"id\":\"2904ca9c-9de8-4f77-8662-fcb102398628\",\"subtype\":\"Figure\",\"type\":\"Plot\"}},\"id\":\"8fe71d3a-d857-4003-be44-cf039ff21680\",\"type\":\"BoxZoomTool\"},{\"attributes\":{},\"id\":\"972f6020-fd31-419e-b492-aac97f79f450\",\"type\":\"BasicTicker\"},{\"attributes\":{\"formatter\":{\"id\":\"0351cb12-3768-45a0-bf71-58c4b1490225\",\"type\":\"BasicTickFormatter\"},\"plot\":{\"id\":\"2904ca9c-9de8-4f77-8662-fcb102398628\",\"subtype\":\"Figure\",\"type\":\"Plot\"},\"ticker\":{\"id\":\"972f6020-fd31-419e-b492-aac97f79f450\",\"type\":\"BasicTicker\"}},\"id\":\"6dca9e19-faa2-439f-947e-2a36ea8363c9\",\"type\":\"LinearAxis\"},{\"attributes\":{\"plot\":null,\"text\":null},\"id\":\"09933463-b3d4-40c3-8fd7-032a4521f18a\",\"type\":\"Title\"},{\"attributes\":{\"fill_color\":{\"value\":\"#1f77b4\"},\"line_color\":{\"value\":\"#1f77b4\"},\"x\":{\"field\":\"x\"},\"y\":{\"field\":\"y\"}},\"id\":\"8ac9b1ab-1120-4586-9f2d-5e14433bf89a\",\"type\":\"Square\"},{\"attributes\":{\"bottom_units\":\"screen\",\"fill_alpha\":{\"value\":0.5},\"fill_color\":{\"value\":\"lightgrey\"},\"left_units\":\"screen\",\"level\":\"overlay\",\"line_alpha\":{\"value\":1.0},\"line_color\":{\"value\":\"black\"},\"line_dash\":[4,4],\"line_width\":{\"value\":2},\"plot\":null,\"render_mode\":\"css\",\"right_units\":\"screen\",\"top_units\":\"screen\"},\"id\":\"42311e2c-98bf-47e5-82f9-cd92a4b5929d\",\"type\":\"BoxAnnotation\"},{\"attributes\":{\"active_drag\":\"auto\",\"active_scroll\":\"auto\",\"active_tap\":\"auto\",\"tools\":[{\"id\":\"8fe71d3a-d857-4003-be44-cf039ff21680\",\"type\":\"BoxZoomTool\"},{\"id\":\"7f3287b8-01af-4c3e-a119-4642377d057a\",\"type\":\"ResetTool\"},{\"id\":\"dd52eba9-af2d-42eb-bca6-0cc312b775dd\",\"type\":\"HoverTool\"}]},\"id\":\"0e192f8e-655a-4f7e-a883-e8f6225c3bed\",\"type\":\"Toolbar\"},{\"attributes\":{\"dimension\":1,\"plot\":{\"id\":\"2904ca9c-9de8-4f77-8662-fcb102398628\",\"subtype\":\"Figure\",\"type\":\"Plot\"},\"ticker\":{\"id\":\"972f6020-fd31-419e-b492-aac97f79f450\",\"type\":\"BasicTicker\"}},\"id\":\"096687b0-e12d-4dee-8068-034b1e89b758\",\"type\":\"Grid\"},{\"attributes\":{\"callback\":null},\"id\":\"69b79ac0-59c2-41b9-a7d6-de57163fead2\",\"type\":\"DataRange1d\"},{\"attributes\":{},\"id\":\"58ece89a-ddf0-4cd0-919f-9034e76a7a03\",\"type\":\"ToolEvents\"},{\"attributes\":{},\"id\":\"09a06710-a75d-4f73-ac28-47c63fba8cac\",\"type\":\"BasicTickFormatter\"},{\"attributes\":{\"fill_alpha\":{\"value\":0.1},\"fill_color\":{\"value\":\"#1f77b4\"},\"line_alpha\":{\"value\":0.1},\"line_color\":{\"value\":\"#1f77b4\"},\"x\":{\"field\":\"x\"},\"y\":{\"field\":\"y\"}},\"id\":\"d461cd74-2a68-4bb1-88d8-c7423f044391\",\"type\":\"Square\"},{\"attributes\":{\"below\":[{\"id\":\"0d6e6db1-66fa-4b24-a52e-25dda1fc37fc\",\"type\":\"LinearAxis\"}],\"left\":[{\"id\":\"6dca9e19-faa2-439f-947e-2a36ea8363c9\",\"type\":\"LinearAxis\"}],\"renderers\":[{\"id\":\"0d6e6db1-66fa-4b24-a52e-25dda1fc37fc\",\"type\":\"LinearAxis\"},{\"id\":\"52d94dea-3c25-4b8e-8826-0e05db739a02\",\"type\":\"Grid\"},{\"id\":\"6dca9e19-faa2-439f-947e-2a36ea8363c9\",\"type\":\"LinearAxis\"},{\"id\":\"096687b0-e12d-4dee-8068-034b1e89b758\",\"type\":\"Grid\"},{\"id\":\"42311e2c-98bf-47e5-82f9-cd92a4b5929d\",\"type\":\"BoxAnnotation\"},{\"id\":\"b1df345b-c1e4-4000-914e-6ff70b347993\",\"type\":\"GlyphRenderer\"}],\"title\":{\"id\":\"09933463-b3d4-40c3-8fd7-032a4521f18a\",\"type\":\"Title\"},\"tool_events\":{\"id\":\"58ece89a-ddf0-4cd0-919f-9034e76a7a03\",\"type\":\"ToolEvents\"},\"toolbar\":{\"id\":\"0e192f8e-655a-4f7e-a883-e8f6225c3bed\",\"type\":\"Toolbar\"},\"x_range\":{\"id\":\"69b79ac0-59c2-41b9-a7d6-de57163fead2\",\"type\":\"DataRange1d\"},\"y_range\":{\"id\":\"05ee176f-ed5e-4453-b8f8-445ea71214ce\",\"type\":\"DataRange1d\"}},\"id\":\"2904ca9c-9de8-4f77-8662-fcb102398628\",\"subtype\":\"Figure\",\"type\":\"Plot\"},{\"attributes\":{},\"id\":\"d8ea6d1c-4948-4827-a435-67065d1c125b\",\"type\":\"BasicTicker\"},{\"attributes\":{\"plot\":{\"id\":\"2904ca9c-9de8-4f77-8662-fcb102398628\",\"subtype\":\"Figure\",\"type\":\"Plot\"}},\"id\":\"7f3287b8-01af-4c3e-a119-4642377d057a\",\"type\":\"ResetTool\"},{\"attributes\":{\"callback\":null,\"names\":[\"main\"],\"plot\":{\"id\":\"2904ca9c-9de8-4f77-8662-fcb102398628\",\"subtype\":\"Figure\",\"type\":\"Plot\"},\"tooltips\":[[\"name\",\"@name\"],[\"avg_def_distance\",\"@avg_def_distance\"],[\"avg_dribbles\",\"@avg_dribbles\"],[\"avg_shot_distance\",\"@avg_shot_distance\"],[\"avg_touch_time\",\"@avg_touch_time\"],[\"spacing\",\"@spacing\"],[\"avg_fg\",\"@avg_fg\"],[\"avg_3fg\",\"@avg_3fg\"],[\"total_shots\",\"@total_shots\"],[\"efg\",\"@efg\"]]},\"id\":\"dd52eba9-af2d-42eb-bca6-0cc312b775dd\",\"type\":\"HoverTool\"},{\"attributes\":{},\"id\":\"0351cb12-3768-45a0-bf71-58c4b1490225\",\"type\":\"BasicTickFormatter\"},{\"attributes\":{\"plot\":{\"id\":\"2904ca9c-9de8-4f77-8662-fcb102398628\",\"subtype\":\"Figure\",\"type\":\"Plot\"},\"ticker\":{\"id\":\"d8ea6d1c-4948-4827-a435-67065d1c125b\",\"type\":\"BasicTicker\"}},\"id\":\"52d94dea-3c25-4b8e-8826-0e05db739a02\",\"type\":\"Grid\"}],\"root_ids\":[\"2904ca9c-9de8-4f77-8662-fcb102398628\"]},\"title\":\"Bokeh Application\",\"version\":\"0.12.2\"}};\n",
       "            var render_items = [{\"docid\":\"e1a3ffe0-7dbe-42c7-9ae8-4186f381dc5a\",\"elementid\":\"b8986d07-a586-4925-8a22-3f872d2dc51e\",\"modelid\":\"2904ca9c-9de8-4f77-8662-fcb102398628\"}];\n",
       "            \n",
       "            Bokeh.embed.embed_items(docs_json, render_items);\n",
       "        });\n",
       "      },\n",
       "      function(Bokeh) {\n",
       "      }\n",
       "    ];\n",
       "  \n",
       "    function run_inline_js() {\n",
       "      \n",
       "      if ((window.Bokeh !== undefined) || (force === \"1\")) {\n",
       "        for (var i = 0; i < inline_js.length; i++) {\n",
       "          inline_js[i](window.Bokeh);\n",
       "        }if (force === \"1\") {\n",
       "          display_loaded();\n",
       "        }} else if (Date.now() < window._bokeh_timeout) {\n",
       "        setTimeout(run_inline_js, 100);\n",
       "      } else if (!window._bokeh_failed_load) {\n",
       "        console.log(\"Bokeh: BokehJS failed to load within specified timeout.\");\n",
       "        window._bokeh_failed_load = true;\n",
       "      } else if (!force) {\n",
       "        var cell = $(\"#b8986d07-a586-4925-8a22-3f872d2dc51e\").parents('.cell').data().cell;\n",
       "        cell.output_area.append_execute_result(NB_LOAD_WARNING)\n",
       "      }\n",
       "  \n",
       "    }\n",
       "  \n",
       "    if (window._bokeh_is_loading === 0) {\n",
       "      console.log(\"Bokeh: BokehJS loaded, going straight to plotting\");\n",
       "      run_inline_js();\n",
       "    } else {\n",
       "      load_libs(js_urls, function() {\n",
       "        console.log(\"Bokeh: BokehJS plotting callback run at\", now());\n",
       "        run_inline_js();\n",
       "      });\n",
       "    }\n",
       "  }(this));\n",
       "</script>"
      ]
     },
     "metadata": {},
     "output_type": "display_data"
    }
   ],
   "source": [
    "fig = scatter_with_hover(df,x=\"total_shots\", y=\"efg\");\n",
    "show(fig)"
   ]
  },
  {
   "cell_type": "markdown",
   "metadata": {
    "collapsed": false
   },
   "source": [
    "### Calculating Shot Probabilities"
   ]
  },
  {
   "cell_type": "code",
   "execution_count": 70,
   "metadata": {
    "collapsed": true
   },
   "outputs": [],
   "source": [
    "test12 = shots[(shots['pts_type']== 3)]"
   ]
  },
  {
   "cell_type": "code",
   "execution_count": 71,
   "metadata": {
    "collapsed": false
   },
   "outputs": [
    {
     "data": {
      "text/plain": [
       "count    98385.000000\n",
       "mean         6.121437\n",
       "std          2.911682\n",
       "min          0.000000\n",
       "25%          4.300000\n",
       "50%          5.500000\n",
       "75%          7.000000\n",
       "max         28.000000\n",
       "Name: close_def_dist, dtype: float64"
      ]
     },
     "execution_count": 71,
     "metadata": {},
     "output_type": "execute_result"
    }
   ],
   "source": [
    "test12.close_def_dist.describe()"
   ]
  },
  {
   "cell_type": "code",
   "execution_count": 72,
   "metadata": {
    "collapsed": false
   },
   "outputs": [
    {
     "data": {
      "text/plain": [
       "0.40265659083826738"
      ]
     },
     "execution_count": 72,
     "metadata": {},
     "output_type": "execute_result"
    }
   ],
   "source": [
    "ta = test12[(test12['close_def_dist']>=7)]\n",
    "ta = sum(ta['shot_made_flag'] == 1)/sum(ta['shot_attempted_flag'] == 1)\n",
    "ta"
   ]
  },
  {
   "cell_type": "markdown",
   "metadata": {},
   "source": [
    "#### What is the probability that Stephen Curry makes a wide open 3 pointer? (closest defender distance is more than 8 feet away)"
   ]
  },
  {
   "cell_type": "code",
   "execution_count": 73,
   "metadata": {
    "collapsed": false
   },
   "outputs": [],
   "source": [
    "sc = shots[(shots['player_id']== 201939)& (shots['pts_type']== 3)]"
   ]
  },
  {
   "cell_type": "code",
   "execution_count": 74,
   "metadata": {
    "collapsed": false
   },
   "outputs": [
    {
     "data": {
      "text/plain": [
       "count    1160.000000\n",
       "mean        5.435431\n",
       "std         2.657679\n",
       "min         0.200000\n",
       "25%         3.800000\n",
       "50%         5.000000\n",
       "75%         6.400000\n",
       "max        21.800000\n",
       "Name: close_def_dist, dtype: float64"
      ]
     },
     "execution_count": 74,
     "metadata": {},
     "output_type": "execute_result"
    }
   ],
   "source": [
    "sc.close_def_dist.describe()"
   ]
  },
  {
   "cell_type": "code",
   "execution_count": 75,
   "metadata": {
    "collapsed": true
   },
   "outputs": [],
   "source": [
    "sc_open = sc[(sc['close_def_dist']>=7)]\n",
    "sc_openfg = sum(sc_open['shot_made_flag'] == 1)/sum(sc_open['shot_attempted_flag'] == 1)"
   ]
  },
  {
   "cell_type": "code",
   "execution_count": 76,
   "metadata": {
    "collapsed": false
   },
   "outputs": [
    {
     "data": {
      "text/plain": [
       "'48.10%'"
      ]
     },
     "execution_count": 76,
     "metadata": {},
     "output_type": "execute_result"
    }
   ],
   "source": [
    "\"{:.2f}%\".format(sc_openfg*100)"
   ]
  },
  {
   "cell_type": "markdown",
   "metadata": {},
   "source": [
    "#### What is the probability that Stephen Curry makes a contested 3 pointer? (closest defender is less than 3.8 feet away)"
   ]
  },
  {
   "cell_type": "code",
   "execution_count": 77,
   "metadata": {
    "collapsed": true
   },
   "outputs": [],
   "source": [
    "sc_tc = sc[(sc['close_def_dist']<3.8)]"
   ]
  },
  {
   "cell_type": "code",
   "execution_count": 78,
   "metadata": {
    "collapsed": false
   },
   "outputs": [
    {
     "data": {
      "text/plain": [
       "'38.79%'"
      ]
     },
     "execution_count": 78,
     "metadata": {},
     "output_type": "execute_result"
    }
   ],
   "source": [
    "sc_tcfg = sum(sc_tc['shot_made_flag'] == 1)/sum(sc_tc['shot_attempted_flag'] == 1)\n",
    "\"{:.2f}%\".format(sc_tcfg*100)"
   ]
  },
  {
   "cell_type": "markdown",
   "metadata": {},
   "source": [
    "#### What is the probability that someone misses a dunk?"
   ]
  },
  {
   "cell_type": "code",
   "execution_count": 79,
   "metadata": {
    "collapsed": false
   },
   "outputs": [],
   "source": [
    "dunk_prob = shots[(shots['action_type'].str.contains('Dunk'))]\n",
    "dunkfg= sum(dunk_prob['shot_made_flag'] == 1)/sum(dunk_prob['shot_attempted_flag'] == 1)"
   ]
  },
  {
   "cell_type": "code",
   "execution_count": 80,
   "metadata": {
    "collapsed": false
   },
   "outputs": [
    {
     "data": {
      "text/plain": [
       "'91.35%'"
      ]
     },
     "execution_count": 80,
     "metadata": {},
     "output_type": "execute_result"
    }
   ],
   "source": [
    "\"{:.2f}%\".format(dunkfg*100)"
   ]
  },
  {
   "cell_type": "code",
   "execution_count": 81,
   "metadata": {
    "collapsed": false
   },
   "outputs": [
    {
     "data": {
      "text/plain": [
       "'8.65%'"
      ]
     },
     "execution_count": 81,
     "metadata": {},
     "output_type": "execute_result"
    }
   ],
   "source": [
    "miss_dunk = 1 - dunkfg\n",
    "\"{:.2f}%\".format(miss_dunk*100)"
   ]
  },
  {
   "cell_type": "markdown",
   "metadata": {},
   "source": [
    "#### Based of the previous question, is a dunk more of a high percentage shot than a layup?"
   ]
  },
  {
   "cell_type": "code",
   "execution_count": 82,
   "metadata": {
    "collapsed": true
   },
   "outputs": [],
   "source": [
    "layup_prob = shots[(shots['action_type'].str.contains('Layup'))]\n",
    "layup_fg = sum(layup_prob['shot_made_flag'] == 1)/sum(layup_prob['shot_attempted_flag'] == 1)"
   ]
  },
  {
   "cell_type": "code",
   "execution_count": 83,
   "metadata": {
    "collapsed": false
   },
   "outputs": [
    {
     "data": {
      "text/plain": [
       "'58.33%'"
      ]
     },
     "execution_count": 83,
     "metadata": {},
     "output_type": "execute_result"
    }
   ],
   "source": [
    "\"{:.2f}%\".format(layup_fg*100)"
   ]
  },
  {
   "cell_type": "markdown",
   "metadata": {},
   "source": [
    "### Hypothesis Testing\n",
    "#### State Null and Alternative Hypothesis"
   ]
  },
  {
   "cell_type": "code",
   "execution_count": 84,
   "metadata": {
    "collapsed": false
   },
   "outputs": [
    {
     "data": {
      "text/html": [
       "<div>\n",
       "<table border=\"1\" class=\"dataframe\">\n",
       "  <thead>\n",
       "    <tr style=\"text-align: right;\">\n",
       "      <th></th>\n",
       "      <th>name</th>\n",
       "      <th>avg_def_distance</th>\n",
       "      <th>avg_dribbles</th>\n",
       "      <th>avg_shot_distance</th>\n",
       "      <th>avg_touch_time</th>\n",
       "      <th>spacing</th>\n",
       "      <th>avg_fg</th>\n",
       "      <th>avg_3fg</th>\n",
       "      <th>total_shots</th>\n",
       "      <th>efg</th>\n",
       "    </tr>\n",
       "  </thead>\n",
       "  <tbody>\n",
       "    <tr>\n",
       "      <th>238</th>\n",
       "      <td>dwight howard</td>\n",
       "      <td>2.480</td>\n",
       "      <td>1.001</td>\n",
       "      <td>4.400</td>\n",
       "      <td>2.328</td>\n",
       "      <td>1.774</td>\n",
       "      <td>0.598</td>\n",
       "      <td>0.750</td>\n",
       "      <td>1157</td>\n",
       "      <td>0.599</td>\n",
       "    </tr>\n",
       "    <tr>\n",
       "      <th>0</th>\n",
       "      <td>kyle korver</td>\n",
       "      <td>5.017</td>\n",
       "      <td>0.358</td>\n",
       "      <td>21.625</td>\n",
       "      <td>1.117</td>\n",
       "      <td>4.311</td>\n",
       "      <td>0.480</td>\n",
       "      <td>0.483</td>\n",
       "      <td>1127</td>\n",
       "      <td>0.649</td>\n",
       "    </tr>\n",
       "    <tr>\n",
       "      <th>257</th>\n",
       "      <td>anthony morrow</td>\n",
       "      <td>4.524</td>\n",
       "      <td>0.878</td>\n",
       "      <td>17.658</td>\n",
       "      <td>1.521</td>\n",
       "      <td>3.903</td>\n",
       "      <td>0.465</td>\n",
       "      <td>0.444</td>\n",
       "      <td>1073</td>\n",
       "      <td>0.567</td>\n",
       "    </tr>\n",
       "    <tr>\n",
       "      <th>195</th>\n",
       "      <td>stephen curry</td>\n",
       "      <td>4.506</td>\n",
       "      <td>4.500</td>\n",
       "      <td>17.949</td>\n",
       "      <td>4.597</td>\n",
       "      <td>3.984</td>\n",
       "      <td>0.484</td>\n",
       "      <td>0.444</td>\n",
       "      <td>2533</td>\n",
       "      <td>0.586</td>\n",
       "    </tr>\n",
       "    <tr>\n",
       "      <th>209</th>\n",
       "      <td>jose calderon</td>\n",
       "      <td>4.626</td>\n",
       "      <td>2.500</td>\n",
       "      <td>20.334</td>\n",
       "      <td>2.823</td>\n",
       "      <td>4.396</td>\n",
       "      <td>0.443</td>\n",
       "      <td>0.441</td>\n",
       "      <td>1061</td>\n",
       "      <td>0.557</td>\n",
       "    </tr>\n",
       "  </tbody>\n",
       "</table>\n",
       "</div>"
      ],
      "text/plain": [
       "               name  avg_def_distance  avg_dribbles  avg_shot_distance  \\\n",
       "238   dwight howard             2.480         1.001              4.400   \n",
       "0       kyle korver             5.017         0.358             21.625   \n",
       "257  anthony morrow             4.524         0.878             17.658   \n",
       "195   stephen curry             4.506         4.500             17.949   \n",
       "209   jose calderon             4.626         2.500             20.334   \n",
       "\n",
       "     avg_touch_time  spacing  avg_fg  avg_3fg  total_shots    efg  \n",
       "238           2.328    1.774   0.598    0.750         1157  0.599  \n",
       "0             1.117    4.311   0.480    0.483         1127  0.649  \n",
       "257           1.521    3.903   0.465    0.444         1073  0.567  \n",
       "195           4.597    3.984   0.484    0.444         2533  0.586  \n",
       "209           2.823    4.396   0.443    0.441         1061  0.557  "
      ]
     },
     "execution_count": 84,
     "metadata": {},
     "output_type": "execute_result"
    }
   ],
   "source": [
    "df.sort_values('avg_3fg', ascending=False).head()"
   ]
  },
  {
   "cell_type": "markdown",
   "metadata": {},
   "source": [
    "Almost everyone who watches the NBA says that Stephen Curry is the best 3-point shooter in the world. Based on the 2013-2014 and 2014-2015 NBA seasons, I claim that Kyle Korver is a better 3 point shooter than Stephen Curry."
   ]
  },
  {
   "cell_type": "markdown",
   "metadata": {},
   "source": [
    "$H_o= p_{1} \\geq p_{2}$,\n",
    "$H_a= p_{1} < p_{2} $"
   ]
  },
  {
   "cell_type": "markdown",
   "metadata": {},
   "source": [
    "$p_1$ = Stephen Curry's 3 point field goal percentage"
   ]
  },
  {
   "cell_type": "markdown",
   "metadata": {},
   "source": [
    "$p_2$ = Kyle Korver's 3 point field goal percentage"
   ]
  },
  {
   "cell_type": "markdown",
   "metadata": {},
   "source": [
    "#### Set alpha level"
   ]
  },
  {
   "cell_type": "markdown",
   "metadata": {},
   "source": [
    "$\\alpha = 0.05$"
   ]
  },
  {
   "cell_type": "markdown",
   "metadata": {},
   "source": [
    "#### Calculate test statistic"
   ]
  },
  {
   "cell_type": "code",
   "execution_count": 85,
   "metadata": {
    "collapsed": false
   },
   "outputs": [
    {
     "data": {
      "text/plain": [
       "1160"
      ]
     },
     "execution_count": 85,
     "metadata": {},
     "output_type": "execute_result"
    }
   ],
   "source": [
    "sc3 = shots[(shots['player_id']== 201939)& (shots['pts_type']== 3)]\n",
    "n_sc = len(sc3)\n",
    "n_sc"
   ]
  },
  {
   "cell_type": "code",
   "execution_count": 86,
   "metadata": {
    "collapsed": false
   },
   "outputs": [
    {
     "data": {
      "text/plain": [
       "515"
      ]
     },
     "execution_count": 86,
     "metadata": {},
     "output_type": "execute_result"
    }
   ],
   "source": [
    "scm = shots.loc[(shots['player_id']== 201939)& (shots['pts_type']== 3) & (shots['shot_made_flag']== 1)]\n",
    "p_sc = len(scm)\n",
    "p_sc"
   ]
  },
  {
   "cell_type": "code",
   "execution_count": 87,
   "metadata": {
    "collapsed": false
   },
   "outputs": [
    {
     "data": {
      "text/plain": [
       "786"
      ]
     },
     "execution_count": 87,
     "metadata": {},
     "output_type": "execute_result"
    }
   ],
   "source": [
    "kk3 =shots[(shots['player_id']== 2594)& (shots['pts_type']== 3)]\n",
    "n_kk = len(kk3)\n",
    "n_kk"
   ]
  },
  {
   "cell_type": "code",
   "execution_count": 88,
   "metadata": {
    "collapsed": false
   },
   "outputs": [
    {
     "data": {
      "text/plain": [
       "380"
      ]
     },
     "execution_count": 88,
     "metadata": {},
     "output_type": "execute_result"
    }
   ],
   "source": [
    "kkm = shots[(shots['player_id']== 2594)& (shots['pts_type']== 3) & (shots['shot_made_flag']== 1)]\n",
    "p_kk = len(kkm)\n",
    "p_kk"
   ]
  },
  {
   "cell_type": "markdown",
   "metadata": {},
   "source": [
    "Using the z-score formula for two proportions:"
   ]
  },
  {
   "cell_type": "markdown",
   "metadata": {},
   "source": [
    "$z = \\frac{p_{1}^\\hat{}-p_{2}^\\hat{}}{\\sqrt{p^\\hat{}(1-p^\\hat{})}\\sqrt{\\frac{1}{n_{1}}+{\\frac{1}{n_{2}}}}}$"
   ]
  },
  {
   "cell_type": "code",
   "execution_count": 89,
   "metadata": {
    "collapsed": false
   },
   "outputs": [],
   "source": [
    "p1 = 515/1160\n",
    "p2 = 380/786\n",
    "p = (515+380)/(1160+786)"
   ]
  },
  {
   "cell_type": "code",
   "execution_count": 90,
   "metadata": {
    "collapsed": false
   },
   "outputs": [
    {
     "data": {
      "text/plain": [
       "-1.71530516776335"
      ]
     },
     "execution_count": 90,
     "metadata": {},
     "output_type": "execute_result"
    }
   ],
   "source": [
    "z = (p1-p2)/((math.sqrt(p*(1-p)))*((math.sqrt((1/n_sc)+(1/n_kk)))))\n",
    "z"
   ]
  },
  {
   "cell_type": "code",
   "execution_count": 94,
   "metadata": {
    "collapsed": false
   },
   "outputs": [
    {
     "data": {
      "text/plain": [
       "'0.043'"
      ]
     },
     "execution_count": 94,
     "metadata": {},
     "output_type": "execute_result"
    }
   ],
   "source": [
    "p_value = stats.norm.sf(abs(z))\n",
    "'{:.3f}'.format(p_value)"
   ]
  },
  {
   "cell_type": "markdown",
   "metadata": {},
   "source": [
    "#### Construct Acceptance/Rejection Regions"
   ]
  },
  {
   "cell_type": "markdown",
   "metadata": {},
   "source": [
    "P-value of $0.043$ is less than the $\\alpha = 0.05$"
   ]
  },
  {
   "cell_type": "markdown",
   "metadata": {},
   "source": [
    "#### Conclusion"
   ]
  },
  {
   "cell_type": "markdown",
   "metadata": {},
   "source": [
    "We reject the null hypothesis. There is sufficient evidence to suggest that Stephen Curry is not a better 3 point shooter than Kyle Korver."
   ]
  },
  {
   "cell_type": "markdown",
   "metadata": {},
   "source": [
    "#### Acknowledgements\n",
    "Posts by Daniel Forsyth (http://www.danielforsyth.me/exploring_nba_data_in_python/) about exploring NBA shot logs and Robin Wilson (http://blog.rtwilson.com/bokeh-plots-with-dataframe-based-tooltips/) on plotting interactive Bokeh data visualizations served as very useful resources."
   ]
  }
 ],
 "metadata": {
  "anaconda-cloud": {},
  "kernelspec": {
   "display_name": "Python [conda root]",
   "language": "python",
   "name": "conda-root-py"
  },
  "language_info": {
   "codemirror_mode": {
    "name": "ipython",
    "version": 3
   },
   "file_extension": ".py",
   "mimetype": "text/x-python",
   "name": "python",
   "nbconvert_exporter": "python",
   "pygments_lexer": "ipython3",
   "version": "3.5.2"
  }
 },
 "nbformat": 4,
 "nbformat_minor": 1
}
